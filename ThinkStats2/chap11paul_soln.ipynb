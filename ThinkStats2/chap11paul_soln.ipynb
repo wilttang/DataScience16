{
 "cells": [
  {
   "cell_type": "markdown",
   "metadata": {},
   "source": [
    "Exercise from Think Stats, 2nd Edition (thinkstats2.com)<br>\n",
    "Allen Downey"
   ]
  },
  {
   "cell_type": "code",
   "execution_count": 1,
   "metadata": {
    "collapsed": false
   },
   "outputs": [
    {
     "name": "stderr",
     "output_type": "stream",
     "text": [
      "/home/pruvolo/anaconda2/lib/python2.7/site-packages/matplotlib/font_manager.py:273: UserWarning: Matplotlib is building the font cache using fc-list. This may take a moment.\n",
      "  warnings.warn('Matplotlib is building the font cache using fc-list. This may take a moment.')\n"
     ]
    }
   ],
   "source": [
    "%matplotlib inline"
   ]
  },
  {
   "cell_type": "markdown",
   "metadata": {},
   "source": [
    "Suppose one of your co-workers is expecting a baby and you are participating in an office pool to predict the date of birth. Assuming that bets are placed during the 30th week of pregnancy, what variables could you use to make the best prediction? You should limit yourself to variables that are known before the birth, and likely to be available to the people in the pool. "
   ]
  },
  {
   "cell_type": "code",
   "execution_count": 2,
   "metadata": {
    "collapsed": false
   },
   "outputs": [],
   "source": [
    "import nsfg\n",
    "\n",
    "data = nsfg.ReadFemPreg()"
   ]
  },
  {
   "cell_type": "code",
   "execution_count": 5,
   "metadata": {
    "collapsed": false
   },
   "outputs": [],
   "source": [
    "data_filtered = data[(data.prglngth > 30) & (data.prgoutcome == 1)]"
   ]
  },
  {
   "cell_type": "code",
   "execution_count": 6,
   "metadata": {
    "collapsed": false
   },
   "outputs": [],
   "source": [
    "import thinkstats2\n",
    "\n",
    "def ReadFemResp(dct_file='2002FemResp.dct',\n",
    "                dat_file='2002FemResp.dat.gz',\n",
    "                nrows=None):\n",
    "    \"\"\"Reads the NSFG respondent data.\n",
    "\n",
    "    dct_file: string file name\n",
    "    dat_file: string file name\n",
    "\n",
    "    returns: DataFrame\n",
    "    \"\"\"\n",
    "    dct = thinkstats2.ReadStataDct(dct_file)\n",
    "    df = dct.ReadFixedWidth(dat_file, compression='gzip', nrows=nrows)\n",
    "    return df\n",
    "\n",
    "respondents = ReadFemResp()"
   ]
  },
  {
   "cell_type": "code",
   "execution_count": 24,
   "metadata": {
    "collapsed": false
   },
   "outputs": [
    {
     "name": "stdout",
     "output_type": "stream",
     "text": [
      "(u'wksgest', 0.80624341161392232)\n",
      "('totalwgt_lb', 0.12445743148119393)\n",
      "(u'birthwgt_lb', 0.11977307804917148)\n",
      "(u'lbw1', 0.10372542204583945)\n",
      "(u'mosgest', 0.095624319895933896)\n",
      "(u'prglngth_i', 0.022053775796484043)\n",
      "(u'nbrnaliv', 0.0045775657855329221)\n",
      "(u'pregend1', 0.0022493894338145859)\n",
      "(u'cmlastlb', 0.0020431424422129307)\n",
      "(u'fmarcon5_i', 0.0019681593242774076)\n",
      "(u'gestasun_m', 0.0016571319550200414)\n",
      "(u'sest', 0.0013223681981762159)\n",
      "(u'cmlstprg', 0.0012828619646515493)\n",
      "(u'birthord', 0.0012372736736778744)\n",
      "(u'poverty', 0.0011234153757080367)\n",
      "(u'gestasun_w', 0.0010513799087294995)\n",
      "(u'cmintstr', 0.00087396929583005711)\n",
      "(u'fmarout5_i', 0.00083790938191452558)\n",
      "(u'rmarout6_i', 0.0007917681629084905)\n",
      "(u'hispanic', 0.00066009164476110715)\n",
      "(u'pregordr', 0.00062224148607814556)\n",
      "(u'educat', 0.00059068244034643502)\n",
      "(u'fmarital', 0.00057247806406190982)\n",
      "(u'rmarital', 0.00056462084046027261)\n",
      "(u'oldwantr', 0.00050750617871297976)\n",
      "(u'wantresp', 0.00049918540108428999)\n",
      "(u'agepreg_i', 0.00042892488166801357)\n",
      "(u'cmprgend', 0.00040699954458067733)\n",
      "(u'cmbabdob', 0.00040699954458067733)\n",
      "(u'hieduc', 0.00040520119033338187)\n",
      "(u'cmintfin', 0.00038224884490212219)\n",
      "(u'maternlv_i', 0.00036200804791752805)\n",
      "(u'hpwnold', 0.00032760957384569966)\n",
      "(u'race', 0.00031440218810130371)\n",
      "(u'agecon_i', 0.00030977079291572007)\n",
      "(u'datend_i', 0.00029608913937351211)\n",
      "(u'metro', 0.00029507407809736819)\n",
      "(u'rmarout6', 0.00028337559132063372)\n",
      "(u'lbw1_i', 0.00026266927044771293)\n",
      "(u'pncarewk_i', 0.00023984528956011442)\n",
      "(u'parity_i', 0.00023883100706512117)\n",
      "(u'religion', 0.00022361170740714531)\n",
      "(u'fmarout5', 0.00020752739901441775)\n",
      "(u'birthwgt_oz', 0.00020716680610777249)\n",
      "(u'babysex', 0.00019116294367804709)\n",
      "(u'pmarpreg_i', 0.00017816910562062915)\n",
      "(u'cmfstprg', 0.00016568912420189541)\n",
      "(u'datecon_i', 0.00016236437489880462)\n",
      "(u'datecon', 0.00016125851117587686)\n",
      "(u'finalwgt', 0.0001561186442690099)\n",
      "(u'poverty_i', 0.00015609428992324759)\n",
      "(u'laborfor_i', 0.00014190278176784421)\n",
      "(u'pubassis', 0.00013626215817852394)\n",
      "(u'oldwantp_i', 0.00013291148926986018)\n",
      "(u'pmarpreg', 0.00011413657125292076)\n",
      "(u'laborfor', 0.00011236400785452627)\n",
      "(u'adj_mod_basewgt', 0.00011085981858449667)\n",
      "(u'agecon', 0.00011081876877672148)\n",
      "(u'wantpart', 9.624942560682026e-05)\n",
      "(u'oldwantp', 8.7727402948489797e-05)\n",
      "(u'basewgt', 8.5616680792210964e-05)\n",
      "(u'wantresp_i', 7.3002095199115047e-05)\n",
      "(u'oldwantr_i', 7.3002095199115047e-05)\n",
      "(u'parity', 6.9802850759081991e-05)\n",
      "(u'hieduc_i', 5.8312194988752175e-05)\n",
      "(u'datend', 5.1994346860761986e-05)\n",
      "(u'insuranc_i', 5.198324314947822e-05)\n",
      "(u'pubassis_i', 5.053258723686227e-05)\n",
      "(u'wantpart_i', 4.8568499780521357e-05)\n",
      "(u'fmarcon5', 4.1095906054500198e-05)\n",
      "(u'anyusint', 3.8208053820043553e-05)\n",
      "(u'caseid', 3.7341851778283086e-05)\n",
      "(u'pregnum', 3.4607010664711169e-05)\n",
      "(u'brnout', 2.7050223128988193e-05)\n",
      "(u'rcurpreg', 2.1262078318762256e-05)\n",
      "(u'paydeliv_i', 1.943364820511384e-05)\n",
      "(u'hispanic_i', 1.7875907506126332e-05)\n",
      "(u'agepreg', 1.7603962222167979e-05)\n",
      "(u'cmbirth', 1.2260220096926844e-05)\n",
      "(u'insuranc', 1.1230681941643006e-05)\n",
      "(u'ager', 1.1041129968636376e-05)\n",
      "(u'agescrn', 1.1041129968636376e-05)\n",
      "(u'religion_i', 1.0300633910165224e-05)\n",
      "(u'hpagelb', 8.2427948523422501e-06)\n",
      "(u'secu_p', 6.865966831748338e-06)\n",
      "(u'hisprace', 3.0621357155480311e-06)\n",
      "(u'cmprgbeg', 1.3844054795875138e-06)\n",
      "(u'bpa_bdscheck1', 1.0451008950473906e-06)\n",
      "(u'learnprg_i', 9.0255253126780843e-07)\n",
      "(u'bfeedwks_i', 3.0052943278402466e-07)\n",
      "(u'kidage', 1.8424861736310305e-07)\n"
     ]
    }
   ],
   "source": [
    "import pandas as pd\n",
    "import operator\n",
    "import numpy as np\n",
    "\n",
    "joined = data_filtered.join(respondents, on='caseid', rsuffix='_r')\n",
    "data_mining = {}\n",
    "for column_name, column_data in joined.iteritems():\n",
    "    if column_name == 'prglngth':\n",
    "        continue\n",
    "    if column_data.isnull().mean() < 0.10:\n",
    "        relevant_columns = pd.concat((column_data, joined.prglngth), axis=1).dropna()\n",
    "        try:\n",
    "            intercept, slope = thinkstats2.LeastSquares(relevant_columns[column_name],\n",
    "                                                        relevant_columns.prglngth)\n",
    "            res = slope*relevant_columns[column_name]+intercept - relevant_columns.prglngth\n",
    "            coef = thinkstats2.CoefDetermination(relevant_columns.prglngth, res)\n",
    "            if not np.isnan(coef):\n",
    "                data_mining[column_name] = coef\n",
    "        except Exception as ex:\n",
    "            print ex\n",
    "\n",
    "sorted_vars = reversed(sorted(data_mining.items(), key=operator.itemgetter(1)))\n",
    "for var in sorted_vars:\n",
    "    print var"
   ]
  },
  {
   "cell_type": "markdown",
   "metadata": {},
   "source": [
    "Of these, only a subset would actually reasonably be available to us.  I'd choose: race, nbrnaliv, birthord, fmarcon5."
   ]
  },
  {
   "cell_type": "code",
   "execution_count": 25,
   "metadata": {
    "collapsed": false
   },
   "outputs": [
    {
     "name": "stdout",
     "output_type": "stream",
     "text": [
      "RMS model 1.89264008596\n",
      "RMS baseline 1.89815725743\n"
     ]
    }
   ],
   "source": [
    "from sklearn.linear_model import LinearRegression\n",
    "import numpy as np\n",
    "\n",
    "model = LinearRegression()\n",
    "filtered = joined.dropna(subset=['birthord', 'poverty', 'nbrnaliv','prglngth'])\n",
    "X = filtered[['birthord', 'race', 'nbrnaliv', 'fmarcon5']]\n",
    "y = filtered.prglngth\n",
    "model.fit(X, y)\n",
    "print \"RMS model\", np.sqrt(((model.predict(X) - y)**2).mean())\n",
    "print \"RMS baseline\", np.sqrt(((y - y.mean())**2).mean())"
   ]
  },
  {
   "cell_type": "code",
   "execution_count": null,
   "metadata": {
    "collapsed": true
   },
   "outputs": [],
   "source": []
  }
 ],
 "metadata": {
  "kernelspec": {
   "display_name": "Python 2",
   "language": "python",
   "name": "python2"
  },
  "language_info": {
   "codemirror_mode": {
    "name": "ipython",
    "version": 2
   },
   "file_extension": ".py",
   "mimetype": "text/x-python",
   "name": "python",
   "nbconvert_exporter": "python",
   "pygments_lexer": "ipython2",
   "version": "2.7.11"
  }
 },
 "nbformat": 4,
 "nbformat_minor": 0
}
