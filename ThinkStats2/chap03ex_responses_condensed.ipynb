{
 "cells": [
  {
   "cell_type": "markdown",
   "metadata": {},
   "source": [
    "## ThinkStats2 Chapter 3\n",
    "\n",
    "This notebook is a condensed view of the responses from the class to the questions in the reading notebook for Chapter 3 of ThinkStats2."
   ]
  },
  {
   "cell_type": "code",
   "execution_count": 3,
   "metadata": {
    "collapsed": true
   },
   "outputs": [],
   "source": [
    "%matplotlib inline\n",
    "import nsfg\n",
    "import chap01soln\n",
    "import thinkstats2\n",
    "\n",
    "resp = chap01soln.ReadFemResp()\n",
    "preg = nsfg.ReadFemPreg()"
   ]
  },
  {
   "cell_type": "markdown",
   "metadata": {},
   "source": [
    "#### Make a PMF of <tt>numkdhh</tt>, the number of children under 18 in the respondent's household.\n",
    "\n",
    "Here is the correct solution (I didn't see any problems in the notebooks on this one)."
   ]
  },
  {
   "cell_type": "code",
   "execution_count": 6,
   "metadata": {
    "collapsed": false
   },
   "outputs": [
    {
     "name": "stdout",
     "output_type": "stream",
     "text": [
      "Pmf({0: 0.46617820227659301, 1: 0.21405207379301322, 2: 0.19625801386889966, 3: 0.087138558157791451, 4: 0.025644380478869556, 5: 0.010728771424833181})\n"
     ]
    }
   ],
   "source": [
    "pmf = thinkstats2.Pmf(resp.numkdhh)\n",
    "print pmf"
   ]
  },
  {
   "cell_type": "markdown",
   "metadata": {},
   "source": [
    "#### Display the PMF.\n",
    "\n",
    "Here is the correct solution."
   ]
  },
  {
   "cell_type": "code",
   "execution_count": 8,
   "metadata": {
    "collapsed": false
   },
   "outputs": [
    {
     "data": {
      "image/png": "[encoded data removed]",
      "text/plain": [
       "<matplotlib.figure.Figure at 0x7f2c72fabed0>"
      ]
     },
     "metadata": {},
     "output_type": "display_data"
    },
    {
     "data": {
      "text/plain": [
       "<matplotlib.figure.Figure at 0x7f2c7ea0dad0>"
      ]
     },
     "metadata": {},
     "output_type": "display_data"
    }
   ],
   "source": [
    "import thinkplot\n",
    "\n",
    "thinkplot.Pmf(pmf, label='numkdhh')\n",
    "thinkplot.Show()"
   ]
  },
  {
   "cell_type": "markdown",
   "metadata": {},
   "source": [
    "The only problem I saw on this one were people accidentally setting the xlim of the plot so that it cut off some of the values.  Printing the pmf is a good sanity check to make sure you don't do this."
   ]
  },
  {
   "cell_type": "markdown",
   "metadata": {},
   "source": [
    "Define <tt>BiasPmf</tt>."
   ]
  },
  {
   "cell_type": "code",
   "execution_count": 9,
   "metadata": {
    "collapsed": true
   },
   "outputs": [],
   "source": [
    "def BiasPmf(pmf, label=''):\n",
    "    \"\"\"Returns the Pmf with oversampling proportional to value.\n",
    "\n",
    "    If pmf is the distribution of true values, the result is the\n",
    "    distribution that would be seen if values are oversampled in\n",
    "    proportion to their values; for example, if you ask students\n",
    "    how big their classes are, large classes are oversampled in\n",
    "    proportion to their size.\n",
    "\n",
    "    Args:\n",
    "      pmf: Pmf object.\n",
    "      label: string label for the new Pmf.\n",
    "\n",
    "     Returns:\n",
    "       Pmf object\n",
    "    \"\"\"\n",
    "    new_pmf = pmf.Copy(label=label)\n",
    "\n",
    "    for x, p in pmf.Items():\n",
    "        new_pmf.Mult(x, x)\n",
    "        \n",
    "    new_pmf.Normalize()\n",
    "    return new_pmf"
   ]
  },
  {
   "cell_type": "markdown",
   "metadata": {},
   "source": [
    "#### Make a the biased Pmf of children in the household, as observed if you surveyed the children instead of the respondents.\n",
    "\n",
    "Here is a correct solution."
   ]
  },
  {
   "cell_type": "code",
   "execution_count": 11,
   "metadata": {
    "collapsed": false
   },
   "outputs": [
    {
     "name": "stdout",
     "output_type": "stream",
     "text": [
      "Pmf({0: 0.0, 1: 0.20899335717935616, 2: 0.38323965252938175, 3: 0.25523760858456823, 4: 0.10015329586101177, 5: 0.052376085845682166})\n"
     ]
    }
   ],
   "source": [
    "biaspmf = BiasPmf(pmf)\n",
    "print biaspmf"
   ]
  },
  {
   "cell_type": "markdown",
   "metadata": {},
   "source": [
    "I didn't really see any problems with this one in terms of getting the right answer, but it seemed like there was some general confusion on this question.\n",
    "\n",
    "1. When would you _want_ to bias the PMF?  It seems like having to _unbias_ your data would be more common.\n",
    "2. So when is a biased pmf not preferable to a pmf? I guess I'm struggling to understand why we even study having a pmf at all.  I'd also like to talk about exactly what the biased pmf of number of children really meant. I understand the book's example with class size, but in any data set where one of the options is 0, it feels just plain inaccurate to multiply 0 by that value's probability to get a biased probability for it.\n",
    "3.  The \"biased\" wording still seems strange to me somehow... The class size paradox in the reading made it seem as if the BiasPmf calculation was some representation for what the students are feeling versus the reality of the situation (the pmf). I'm still unclear how these multiplications mirror the perception of the students. "
   ]
  },
  {
   "cell_type": "markdown",
   "metadata": {},
   "source": [
    "#### Display the actual Pmf and the biased Pmf on the same axes.\n",
    "\n",
    "Here is a correct solution.  As above, people didn't have any problems doing this exercise, but there was general confusion."
   ]
  },
  {
   "cell_type": "code",
   "execution_count": 20,
   "metadata": {
    "collapsed": false
   },
   "outputs": [
    {
     "data": {
      "image/png": "[encoded data removed]",
      "text/plain": [
       "<matplotlib.figure.Figure at 0x7f2c7efde450>"
      ]
     },
     "metadata": {},
     "output_type": "display_data"
    },
    {
     "data": {
      "text/plain": [
       "<matplotlib.figure.Figure at 0x7f2c7efdefd0>"
      ]
     },
     "metadata": {},
     "output_type": "display_data"
    }
   ],
   "source": [
    "thinkplot.PrePlot(2)\n",
    "thinkplot.Pmf(pmf, label='unbiased')\n",
    "thinkplot.Pmf(biaspmf, label='biased')\n",
    "thinkplot.Show()"
   ]
  },
  {
   "cell_type": "markdown",
   "metadata": {},
   "source": [
    "#### Compute the means of the two Pmfs.\n",
    "\n",
    "Correct solution:"
   ]
  },
  {
   "cell_type": "code",
   "execution_count": 23,
   "metadata": {
    "collapsed": false
   },
   "outputs": [
    {
     "name": "stdout",
     "output_type": "stream",
     "text": [
      "Unbiased mean 1.02420515504\n",
      "Biased mean 2.40367910066\n",
      "6\n"
     ]
    }
   ],
   "source": [
    "print \"Unbiased mean\", pmf.Mean()\n",
    "print \"Biased mean\", biaspmf.Mean()"
   ]
  },
  {
   "cell_type": "markdown",
   "metadata": {},
   "source": [
    "The two errors I saw on this question were:\n",
    "1.  Looping over the elements of the pmfs, but hardcoding the wrong total number of elements (you can use len(pmf) to get the number of elements.\n",
    "2.  Misunderstanding what the question meant and averaging the mean of the biased and unbiased pmfs: `pmf.Mean() + biaspmf.Mean())/2`"
   ]
  },
  {
   "cell_type": "markdown",
   "metadata": {},
   "source": [
    "### ThinkStats Chapter 3, Exercise 3\n",
    "\n",
    "I started with the question, “Are first babies more likely to be late?” To address it, I computed the difference in means between groups of babies, but I ignored the possibility that there might be a difference between first babies and others for the same woman.\n",
    "\n",
    "To address this version of the question, select respondents who have at least two babies and compute pairwise differences. Does this formulation of the question yield a different result?\n",
    "\n",
    "Hint: use nsfg.MakePregMap.\n",
    "\n",
    "A correction solution that uses `nsfg.MakePregMap`."
   ]
  },
  {
   "cell_type": "code",
   "execution_count": 48,
   "metadata": {
    "collapsed": false
   },
   "outputs": [
    {
     "name": "stdout",
     "output_type": "stream",
     "text": [
      "Mean difference between pairs 0.0859556494192\n"
     ]
    },
    {
     "data": {
      "image/png": "[encoded data removed]",
      "text/plain": [
       "<matplotlib.figure.Figure at 0x7f2c7f5cd9d0>"
      ]
     },
     "metadata": {},
     "output_type": "display_data"
    },
    {
     "data": {
      "text/plain": [
       "<matplotlib.figure.Figure at 0x7f2c7f32a390>"
      ]
     },
     "metadata": {},
     "output_type": "display_data"
    }
   ],
   "source": [
    "live = preg[preg.outcome == 1]\n",
    "preg_map = nsfg.MakePregMap(live)\n",
    "all_pairwise_diffs = []\n",
    "\n",
    "for case_id, pregnancies in preg_map.items():\n",
    "    pairwise_diffs = live.loc[pregnancies[0]].prglngth - live.loc[pregnancies[1:]].prglngth\n",
    "    all_pairwise_diffs.extend(list(pairwise_diffs))\n",
    "\n",
    "pairwise_pmf = thinkstats2.Pmf(all_pairwise_diffs)\n",
    "print 'Mean difference between pairs', pairwise_pmf.Mean()\n",
    "\n",
    "thinkplot.Hist(pairwise_pmf, align='center')\n",
    "thinkplot.Show(xlabel='Difference in weeks', ylabel='PMF')"
   ]
  },
  {
   "cell_type": "markdown",
   "metadata": {},
   "source": [
    "A correct solution that uses `groupby`."
   ]
  },
  {
   "cell_type": "code",
   "execution_count": 49,
   "metadata": {
    "collapsed": false
   },
   "outputs": [
    {
     "name": "stdout",
     "output_type": "stream",
     "text": [
      "Mean difference between pairs 0.0859556494192\n"
     ]
    },
    {
     "data": {
      "image/png": "[encoded data removed]",
      "text/plain": [
       "<matplotlib.figure.Figure at 0x7f2c7f0b6690>"
      ]
     },
     "metadata": {},
     "output_type": "display_data"
    },
    {
     "data": {
      "text/plain": [
       "<matplotlib.figure.Figure at 0x7f2c7f3597d0>"
      ]
     },
     "metadata": {},
     "output_type": "display_data"
    }
   ],
   "source": [
    "live = preg[preg.outcome == 1]\n",
    "all_pairwise_diffs = []\n",
    "\n",
    "for index, pregnancies in live.groupby('caseid'):\n",
    "    pairwise_diffs = pregnancies.iloc[0].prglngth - pregnancies.iloc[1:].prglngth\n",
    "    all_pairwise_diffs.extend(list(pairwise_diffs))\n",
    "\n",
    "pairwise_pmf = thinkstats2.Pmf(all_pairwise_diffs)\n",
    "print 'Mean difference between pairs', pairwise_pmf.Mean()\n",
    "\n",
    "thinkplot.Hist(pairwise_pmf, align='center')\n",
    "thinkplot.Show(xlabel='Difference in weeks', ylabel='PMF')"
   ]
  },
  {
   "cell_type": "markdown",
   "metadata": {},
   "source": [
    "The errors that I saw for this question were mostly either not properly understanding the question (but not in a consistent way across the class) or forgetting to only consider live births (preg.outcome == 1).  There were a lot of clarifying questions asked about this question.\n",
    "\n",
    "1. Pairwise difference wasn't covered in the book\n",
    "2. I'm not sure what the last question is asking,...\n",
    "3. I am so confused about the last question. \n",
    "4. Not actually sure how we're supposed to use the mapping above...\n",
    "5. I'm not entirely sure what the last question is asking. The rest of it was very intuitive, but the last question reminds me of the question on \n",
    "6. I found the last question really difficult because I think it's poorly worded. Rather than being concise, as it seems that is what Allen was trying to do, I would have much preferred it to be explained in more detail. It was really frustrating trying to figure out what he meant."
   ]
  },
  {
   "cell_type": "markdown",
   "metadata": {},
   "source": [
    "### Additional Resources / Explorations\n",
    "\n",
    "\n",
    "<p>\n",
    "Used to figure out what pairwise difference is\n",
    "http://support.minitab.com/en-us/minitab/17/topic-library/basic-statistics-and-graphs/hypothesis-tests/nonparametrics-tests/what-are-pairwise-statistics/\n",
    "</p>\n",
    "\n",
    "Just for reference, the codebook is [here](http://www.icpsr.umich.edu/nsfg6/Controller?displayPage=shortLabel&fileCode=PREG&section=&subSec=8014)."
   ]
  }
 ],
 "metadata": {
  "kernelspec": {
   "display_name": "Python 2",
   "language": "python",
   "name": "python2"
  },
  "language_info": {
   "codemirror_mode": {
    "name": "ipython",
    "version": 2
   },
   "file_extension": ".py",
   "mimetype": "text/x-python",
   "name": "python",
   "nbconvert_exporter": "python",
   "pygments_lexer": "ipython2",
   "version": "2.7.11"
  }
 },
 "nbformat": 4,
 "nbformat_minor": 0
}
