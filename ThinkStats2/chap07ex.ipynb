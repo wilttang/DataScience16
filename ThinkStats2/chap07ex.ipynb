{
 "cells": [
  {
   "cell_type": "markdown",
   "metadata": {},
   "source": [
    "Exercise from Think Stats, 2nd Edition (thinkstats2.com)<br>\n",
    "Allen Downey"
   ]
  },
  {
   "cell_type": "code",
   "execution_count": null,
   "metadata": {
    "collapsed": false
   },
   "outputs": [],
   "source": [
    "%matplotlib inline"
   ]
  },
  {
   "cell_type": "markdown",
   "metadata": {},
   "source": [
    "Using data from the NSFG, make a scatter plot of birth weight versus mother’s age. Plot percentiles of birth weight versus mother’s age. Compute Pearson’s and Spearman’s correlations. How would you characterize the relationship between these variables? "
   ]
  },
  {
   "cell_type": "code",
   "execution_count": 4,
   "metadata": {
    "collapsed": false
   },
   "outputs": [
    {
     "name": "stdout",
     "output_type": "stream",
     "text": [
      "62063.0\n",
      "4509\n",
      "326895.81\n",
      "352\n"
     ]
    }
   ],
   "source": [
    "import nsfg\n",
    "\n",
    "def CleanFemPreg(df):\n",
    "    df.agepreg /= 100\n",
    "    \n",
    "    na_vals = [97,98,99]\n",
    "    \n",
    "    df.birthwgt_lb[df.birthwgt_lb > 20] = np.nan\n",
    "\n",
    "\n",
    "preg = nsfg.ReadFemPreg()\n",
    "\n",
    "b_wgt = preg.birthwgt_lb\n",
    "m_age = preg.agepreg\n",
    "\n",
    "print b_wgt.sum()\n",
    "print b_wgt.isnull().sum()\n",
    "print m_age.sum()\n",
    "print m_age.isnull().sum()\n",
    "\n",
    "\n",
    "thinkplot.Scatter(b_wgt, m_age)\n",
    "thinkplot.Show()\n",
    "\n",
    "pregs = [thinkstats2.Cdf(preg.birthwgt_lb) for i, group in groups]\n",
    "m_age_2 = [preg.agepreg for i, group in groups]\n",
    "for percent in [75,50,25]:\n",
    "    b_wgt_prcnt = [cdf.Percentile(percent) for cdf in pregs]\n",
    "    label = '%dth' %percent\n",
    "    thinkplot.Plot(m_age_2, weights, label = label)"
   ]
  },
  {
   "cell_type": "code",
   "execution_count": null,
   "metadata": {
    "collapsed": true
   },
   "outputs": [],
   "source": []
  }
 ],
 "metadata": {
  "kernelspec": {
   "display_name": "Python 2",
   "language": "python",
   "name": "python2"
  },
  "language_info": {
   "codemirror_mode": {
    "name": "ipython",
    "version": 2
   },
   "file_extension": ".py",
   "mimetype": "text/x-python",
   "name": "python",
   "nbconvert_exporter": "python",
   "pygments_lexer": "ipython2",
   "version": "2.7.11"
  }
 },
 "nbformat": 4,
 "nbformat_minor": 0
}
