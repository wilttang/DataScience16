{
 "cells": [
  {
   "cell_type": "markdown",
   "metadata": {},
   "source": [
    "## Warmup Project Model Iteration 2 Debrief\n",
    "\n",
    "Here, I will summarize the common questions and areas of improvement that I saw in the warmup project model iteration 2 notebooks.\n",
    "\n",
    "Topics include:\n",
    "* Limitations of sklearn.feature_selection.SelectKBest\n",
    "* Preparing data for decision trees\n",
    "* Training separate models based on an input feature\n",
    "* More advanced data imputation\n",
    "* Best practices for writing about and documenting your models\n",
    "* Interpreting your Kaggle score"
   ]
  },
  {
   "cell_type": "markdown",
   "metadata": {},
   "source": [
    "### Limitations of SelectKBest\n",
    "\n",
    "Many of you utilized the suggestions in the dataquest.io tutorial for improving your model.  One of the suggestions that was given in that writeup was to do feature selection in order to remove irrelevant features.  This in itself is not a bad idea, however, the particular method that was used in the tutorial had a number of problems that we need to discuss.\n",
    "\n",
    "For starters, let's revisit what was one in the dataquest.io tutorial to downselect to several informative features.  The next few cells perform the following high-level steps:\n",
    "1.  Load the titanic training data\n",
    "2.  Fill NaN's in the Embarked column with the column mode\n",
    "3.  Fill NaN's in the Age column with the column mean\n",
    "4.  Drop the Cabin column (there are too many missing values)\n",
    "5.  Add dummy variables for both Sex and Embarked\n",
    "6.  Add a column that indicates the title of the passenger\n",
    "7.  Add a column for the family size of the passenger"
   ]
  },
  {
   "cell_type": "code",
   "execution_count": 1,
   "metadata": {
    "collapsed": false
   },
   "outputs": [
    {
     "data": {
      "text/html": [
       "<div>\n",
       "<table border=\"1\" class=\"dataframe\">\n",
       "  <thead>\n",
       "    <tr style=\"text-align: right;\">\n",
       "      <th></th>\n",
       "      <th>PassengerId</th>\n",
       "      <th>Survived</th>\n",
       "      <th>Pclass</th>\n",
       "      <th>Name</th>\n",
       "      <th>Sex</th>\n",
       "      <th>Age</th>\n",
       "      <th>SibSp</th>\n",
       "      <th>Parch</th>\n",
       "      <th>Ticket</th>\n",
       "      <th>Fare</th>\n",
       "      <th>Cabin</th>\n",
       "      <th>Embarked</th>\n",
       "    </tr>\n",
       "  </thead>\n",
       "  <tbody>\n",
       "    <tr>\n",
       "      <th>0</th>\n",
       "      <td>1</td>\n",
       "      <td>0</td>\n",
       "      <td>3</td>\n",
       "      <td>Braund, Mr. Owen Harris</td>\n",
       "      <td>male</td>\n",
       "      <td>22</td>\n",
       "      <td>1</td>\n",
       "      <td>0</td>\n",
       "      <td>A/5 21171</td>\n",
       "      <td>7.2500</td>\n",
       "      <td>NaN</td>\n",
       "      <td>S</td>\n",
       "    </tr>\n",
       "    <tr>\n",
       "      <th>1</th>\n",
       "      <td>2</td>\n",
       "      <td>1</td>\n",
       "      <td>1</td>\n",
       "      <td>Cumings, Mrs. John Bradley (Florence Briggs Th...</td>\n",
       "      <td>female</td>\n",
       "      <td>38</td>\n",
       "      <td>1</td>\n",
       "      <td>0</td>\n",
       "      <td>PC 17599</td>\n",
       "      <td>71.2833</td>\n",
       "      <td>C85</td>\n",
       "      <td>C</td>\n",
       "    </tr>\n",
       "    <tr>\n",
       "      <th>2</th>\n",
       "      <td>3</td>\n",
       "      <td>1</td>\n",
       "      <td>3</td>\n",
       "      <td>Heikkinen, Miss. Laina</td>\n",
       "      <td>female</td>\n",
       "      <td>26</td>\n",
       "      <td>0</td>\n",
       "      <td>0</td>\n",
       "      <td>STON/O2. 3101282</td>\n",
       "      <td>7.9250</td>\n",
       "      <td>NaN</td>\n",
       "      <td>S</td>\n",
       "    </tr>\n",
       "    <tr>\n",
       "      <th>3</th>\n",
       "      <td>4</td>\n",
       "      <td>1</td>\n",
       "      <td>1</td>\n",
       "      <td>Futrelle, Mrs. Jacques Heath (Lily May Peel)</td>\n",
       "      <td>female</td>\n",
       "      <td>35</td>\n",
       "      <td>1</td>\n",
       "      <td>0</td>\n",
       "      <td>113803</td>\n",
       "      <td>53.1000</td>\n",
       "      <td>C123</td>\n",
       "      <td>S</td>\n",
       "    </tr>\n",
       "    <tr>\n",
       "      <th>4</th>\n",
       "      <td>5</td>\n",
       "      <td>0</td>\n",
       "      <td>3</td>\n",
       "      <td>Allen, Mr. William Henry</td>\n",
       "      <td>male</td>\n",
       "      <td>35</td>\n",
       "      <td>0</td>\n",
       "      <td>0</td>\n",
       "      <td>373450</td>\n",
       "      <td>8.0500</td>\n",
       "      <td>NaN</td>\n",
       "      <td>S</td>\n",
       "    </tr>\n",
       "  </tbody>\n",
       "</table>\n",
       "</div>"
      ],
      "text/plain": [
       "   PassengerId  Survived  Pclass  \\\n",
       "0            1         0       3   \n",
       "1            2         1       1   \n",
       "2            3         1       3   \n",
       "3            4         1       1   \n",
       "4            5         0       3   \n",
       "\n",
       "                                                Name     Sex  Age  SibSp  \\\n",
       "0                            Braund, Mr. Owen Harris    male   22      1   \n",
       "1  Cumings, Mrs. John Bradley (Florence Briggs Th...  female   38      1   \n",
       "2                             Heikkinen, Miss. Laina  female   26      0   \n",
       "3       Futrelle, Mrs. Jacques Heath (Lily May Peel)  female   35      1   \n",
       "4                           Allen, Mr. William Henry    male   35      0   \n",
       "\n",
       "   Parch            Ticket     Fare Cabin Embarked  \n",
       "0      0         A/5 21171   7.2500   NaN        S  \n",
       "1      0          PC 17599  71.2833   C85        C  \n",
       "2      0  STON/O2. 3101282   7.9250   NaN        S  \n",
       "3      0            113803  53.1000  C123        S  \n",
       "4      0            373450   8.0500   NaN        S  "
      ]
     },
     "execution_count": 1,
     "metadata": {},
     "output_type": "execute_result"
    }
   ],
   "source": [
    "import pandas as pd\n",
    "\n",
    "data = pd.read_csv('../../datasets/titanic_train.csv')\n",
    "data.head()"
   ]
  },
  {
   "cell_type": "code",
   "execution_count": 2,
   "metadata": {
    "collapsed": false
   },
   "outputs": [
    {
     "data": {
      "text/plain": [
       "PassengerId      0\n",
       "Survived         0\n",
       "Pclass           0\n",
       "Name             0\n",
       "Sex              0\n",
       "Age            177\n",
       "SibSp            0\n",
       "Parch            0\n",
       "Ticket           0\n",
       "Fare             0\n",
       "Cabin          687\n",
       "Embarked         2\n",
       "dtype: int64"
      ]
     },
     "execution_count": 2,
     "metadata": {},
     "output_type": "execute_result"
    }
   ],
   "source": [
    "data.isnull().sum()"
   ]
  },
  {
   "cell_type": "code",
   "execution_count": 3,
   "metadata": {
    "collapsed": false
   },
   "outputs": [
    {
     "name": "stdout",
     "output_type": "stream",
     "text": [
      "PassengerId    0\n",
      "Survived       0\n",
      "Pclass         0\n",
      "Name           0\n",
      "Sex            0\n",
      "Age            0\n",
      "SibSp          0\n",
      "Parch          0\n",
      "Ticket         0\n",
      "Fare           0\n",
      "Embarked       0\n",
      "dtype: int64\n"
     ]
    }
   ],
   "source": [
    "data.Embarked = data.Embarked.fillna(data.Embarked.mode()[0])\n",
    "data.Age = data.Age.fillna(data.Age.mean())\n",
    "data = data.drop(['Cabin'], axis=1, errors='ignore')\n",
    "\n",
    "print data.isnull().sum()"
   ]
  },
  {
   "cell_type": "code",
   "execution_count": 4,
   "metadata": {
    "collapsed": false,
    "scrolled": true
   },
   "outputs": [
    {
     "data": {
      "text/plain": [
       "Index([u'PassengerId', u'Survived', u'Pclass', u'Name', u'Sex', u'Age',\n",
       "       u'SibSp', u'Parch', u'Ticket', u'Fare', u'Embarked', u'female', u'male',\n",
       "       u'C', u'Q', u'S'],\n",
       "      dtype='object')"
      ]
     },
     "execution_count": 4,
     "metadata": {},
     "output_type": "execute_result"
    }
   ],
   "source": [
    "# add dummy variables for Sex and Embarked\n",
    "data = pd.concat((data, pd.get_dummies(data.Sex)), axis=1)\n",
    "data = pd.concat((data, pd.get_dummies(data.Embarked)), axis=1)\n",
    "data.columns"
   ]
  },
  {
   "cell_type": "code",
   "execution_count": 5,
   "metadata": {
    "collapsed": false
   },
   "outputs": [],
   "source": [
    "import re\n",
    "\n",
    "# A function to get the title from a name.\n",
    "def get_title(name):\n",
    "    # Use a regular expression to search for a title.  Titles always consist of capital and lowercase letters, and end with a period.\n",
    "    title_search = re.search(' ([A-Za-z]+)\\.', name)\n",
    "    # If the title exists, extract and return it.\n",
    "    if title_search:\n",
    "        return title_search.group(1)\n",
    "    return \"\"\n",
    "\n",
    "# Get all the titles and print how often each one occurs.\n",
    "titles = data[\"Name\"].apply(get_title)\n",
    "\n",
    "# Map each title to an integer.  Some titles are very rare, and are compressed into the same codes as other titles.\n",
    "title_mapping = {\"Mr\": 1, \"Miss\": 2, \"Mrs\": 3, \"Master\": 4, \"Dr\": 5, \"Rev\": 6, \"Major\": 7, \"Col\": 7, \"Mlle\": 8, \"Mme\": 8, \"Don\": 9, \"Lady\": 10, \"Countess\": 10, \"Jonkheer\": 10, \"Sir\": 9, \"Capt\": 7, \"Ms\": 2}\n",
    "for k,v in title_mapping.items():\n",
    "    titles[titles == k] = v\n",
    "\n",
    "# Add in the title column.\n",
    "data[\"Title\"] = titles\n",
    "data[\"FamilySize\"] = data[\"SibSp\"] + data[\"Parch\"]"
   ]
  },
  {
   "cell_type": "code",
   "execution_count": 6,
   "metadata": {
    "collapsed": false
   },
   "outputs": [
    {
     "name": "stderr",
     "output_type": "stream",
     "text": [
      "/home/pruvolo/anaconda2/lib/python2.7/site-packages/matplotlib/font_manager.py:273: UserWarning: Matplotlib is building the font cache using fc-list. This may take a moment.\n",
      "  warnings.warn('Matplotlib is building the font cache using fc-list. This may take a moment.')\n"
     ]
    },
    {
     "data": {
      "image/png": "[encoded data removed]",
      "text/plain": [
       "<matplotlib.figure.Figure at 0x7f3c61a03250>"
      ]
     },
     "metadata": {},
     "output_type": "display_data"
    }
   ],
   "source": [
    "%matplotlib inline \n",
    "import matplotlib.pyplot as plt\n",
    "from sklearn.feature_selection import SelectKBest, f_classif\n",
    "import numpy as np\n",
    "\n",
    "predictors = [\"Pclass\", \"male\", \"Age\", \"SibSp\", \"Parch\", \"Fare\", \"Title\", 'C', 'S', 'Q', 'FamilySize']\n",
    "\n",
    "selector = SelectKBest(k=5)\n",
    "selector.fit(data[predictors], data.Survived)\n",
    "scores = -np.log10(selector.pvalues_)\n",
    "plt.bar(range(len(scores)), scores)\n",
    "plt.xticks(range(len(scores)), predictors, rotation=\"vertical\")\n",
    "plt.show()"
   ]
  },
  {
   "cell_type": "markdown",
   "metadata": {},
   "source": [
    "In some ways this plot makes complete sense.  We know that being male meant you were likely to perish, and male has the highest feature importance.  Further, Pclass which we also know to be important is also selected.  What's puzzling is what doesn't get a high feature importance.  I would expect Age to have a much higher importance given the crucial role that it has in boosting your score on Kaggle (remember, women and children first).\n",
    "\n",
    "To understand why this is happening we have to learn more about how `SelectKBest` works.  `SelectKBest` requires that you specify an argument called score_func  That has the following definision:\n",
    "\n",
    "score_func : callable\n",
    "\n",
    "    Function taking two arrays X and y, and returning a pair of arrays (scores, pvalues).\n",
    "\n",
    "In this case we are using the score function `f_classif`.  If we read the documentation for `f_classif` we will learn that it uses an ANOVA (ANalysis Of VAriance) to determine how related each input feature in X is to the outputs, y, that we are trying to predict.  Unfortunately, the way that ANOVAs work in this case is to ask the question: \"Is the mean value for a particular feature different for survivors versus non-survivors?\".  If there is significant evidence that the mean values are different (i.e. not due to chance), then we say the feature is important or good.  Unfortunately, this is not always a great technique for determining feature imoprtance.  Next, we'll look at a minimalistic example of when  this is problematic."
   ]
  },
  {
   "cell_type": "markdown",
   "metadata": {},
   "source": [
    " #### Minimalistic Example\n",
    " \n",
    " We'll create two arrays, x and y, such that y can be perfectly predicted from x."
   ]
  },
  {
   "cell_type": "code",
   "execution_count": 7,
   "metadata": {
    "collapsed": false
   },
   "outputs": [
    {
     "data": {
      "image/png": "[encoded data removed]",
      "text/plain": [
       "<matplotlib.figure.Figure at 0x7f3c5f4be590>"
      ]
     },
     "metadata": {},
     "output_type": "display_data"
    }
   ],
   "source": [
    "import numpy as np\n",
    "import matplotlib.pyplot as plt\n",
    "\n",
    "x = np.arange(-1.95, 1.96, .01)\n",
    "y = abs(x) > 1\n",
    "x = x[:,np.newaxis]\n",
    "plt.plot(x,y,'b.')\n",
    "plt.ylim([-.2, 1.2])\n",
    "plt.xlim([-2.5, 2.5])\n",
    "plt.xlabel('x')\n",
    "plt.ylabel('y')\n",
    "plt.show()"
   ]
  },
  {
   "cell_type": "code",
   "execution_count": 8,
   "metadata": {
    "collapsed": false
   },
   "outputs": [
    {
     "name": "stdout",
     "output_type": "stream",
     "text": [
      "Accuracy of classifier 0.989795918367\n"
     ]
    }
   ],
   "source": [
    "from sklearn.cross_validation import train_test_split\n",
    "from sklearn.ensemble import RandomForestClassifier\n",
    "\n",
    "x_train, x_test, y_train, y_test = train_test_split(x, y)\n",
    "\n",
    "classif = RandomForestClassifier()\n",
    "classif.fit(x_train, y_train)\n",
    "print \"Accuracy of classifier\", classif.score(x_test, y_test)"
   ]
  },
  {
   "cell_type": "code",
   "execution_count": 9,
   "metadata": {
    "collapsed": false
   },
   "outputs": [
    {
     "name": "stdout",
     "output_type": "stream",
     "text": [
      "Feature importance [ 0.07385551]\n"
     ]
    }
   ],
   "source": [
    "selector = SelectKBest(k=1)\n",
    "selector.fit(x, y)\n",
    "print \"Feature importance\", -np.log(selector.pvalues_)"
   ]
  },
  {
   "cell_type": "markdown",
   "metadata": {},
   "source": [
    "What has gone wrong here is that the ANOVA has declared x to be unimportant since the mean value for x when y = 1 is basically the same as the mean value for x when y = 0."
   ]
  },
  {
   "cell_type": "markdown",
   "metadata": {},
   "source": [
    "#### Taking into Account Non-linear Relationships\n",
    "\n",
    "Next, we'll discuss a method by which we can move beyond using ANOVA to compute feature importance.  I used [this](http://scikit-learn.org/stable/auto_examples/ensemble/plot_forest_importances.html) tutorial to generate this example for the titanic dataset."
   ]
  },
  {
   "cell_type": "code",
   "execution_count": 10,
   "metadata": {
    "collapsed": false
   },
   "outputs": [
    {
     "data": {
      "image/png": "[encoded data removed]",
      "text/plain": [
       "<matplotlib.figure.Figure at 0x7f3c5c58d110>"
      ]
     },
     "metadata": {},
     "output_type": "display_data"
    }
   ],
   "source": [
    "from sklearn.ensemble import ExtraTreesClassifier\n",
    "\n",
    "# Build a forest and compute the feature importances\n",
    "forest = ExtraTreesClassifier(n_estimators=250)\n",
    "forest.fit(data[predictors], data.Survived)\n",
    "\n",
    "importances = forest.feature_importances_\n",
    "std = np.std([tree.feature_importances_ for tree in forest.estimators_], axis=0)\n",
    "indices = np.argsort(importances)[::-1]\n",
    "\n",
    "# Plot the feature importances of the forest\n",
    "plt.figure()\n",
    "plt.title(\"Feature importances\")\n",
    "plt.bar(range(len(predictors)),\n",
    "        importances[indices],\n",
    "        color=\"r\", yerr=std[indices],\n",
    "        align=\"center\")\n",
    "plt.xticks(range(len(predictors)), predictors, rotation=\"vertical\")\n",
    "plt.show()"
   ]
  },
  {
   "cell_type": "markdown",
   "metadata": {},
   "source": [
    "#### Overestimating Performance\n",
    "\n",
    "There is a second problem with the DataQuest code.  The issue is with the following piece of code.\n",
    "\n",
    "```python\n",
    "selector = SelectKBest(k=5)\n",
    "selector.fit(data[predictors], data.Survived)\n",
    "scores = -np.log10(selector.pvalues_)```\n",
    "\n",
    "The problem is that the best features are being estimated using *all* of the training data.  Therefore, if we then use cross validation to estimate performance we will be implicitly using some knowledge from the test set in our cross validation loop since we used the features that were best over all the data.\n",
    "\n",
    "First, let's run an experiment to see the effect that the DataQuest tutorial's method has."
   ]
  },
  {
   "cell_type": "code",
   "execution_count": 11,
   "metadata": {
    "collapsed": false,
    "scrolled": true
   },
   "outputs": [
    {
     "data": {
      "image/png": "[encoded data removed]",
      "text/plain": [
       "<matplotlib.figure.Figure at 0x7f3c96c2ac90>"
      ]
     },
     "metadata": {},
     "output_type": "display_data"
    }
   ],
   "source": [
    "from sklearn import cross_validation\n",
    "from sklearn.linear_model import LogisticRegression\n",
    "\n",
    "def do_trial(alg, X1, X2, y):\n",
    "    # change Shuffle to False to see how this affects the conclusions\n",
    "    cv = cross_validation.StratifiedKFold(y, 3, shuffle=True)\n",
    "    score1 = cross_validation.cross_val_score(alg, X1, y, cv=cv)\n",
    "    score2 = cross_validation.cross_val_score(alg, X2, y, cv=cv)\n",
    "    return score1.mean(), score2.mean()\n",
    "\n",
    "predictors = ['Pclass',\n",
    "              'male',\n",
    "              'Age',\n",
    "              'SibSp',\n",
    "              'Parch',\n",
    "              'Fare',\n",
    "              'Title',\n",
    "              'C',\n",
    "              'S',\n",
    "              'Q',\n",
    "              'FamilySize']\n",
    "\n",
    "X = np.asarray(data[predictors])\n",
    "y = np.asarray(data.Survived)\n",
    "\n",
    "# Perform feature selection\n",
    "selector = SelectKBest(f_classif, k=5)\n",
    "selector.fit(X, y)\n",
    "\n",
    "# Get the raw p-values for each feature, and transform from p-values into scores\n",
    "scores = -np.log10(selector.pvalues_)\n",
    "best_feature_indices = sorted(range(len(scores)), reverse=True, key=lambda i: scores[i])\n",
    "\n",
    "alg = RandomForestClassifier(n_estimators=150, min_samples_split=8, min_samples_leaf=4)\n",
    "#alg = LogisticRegression()\n",
    "\n",
    "n_trials = 10\n",
    "all_features_performances = np.zeros(n_trials,)\n",
    "best_features_performances = np.zeros(n_trials,)\n",
    "\n",
    "for i in range(n_trials):\n",
    "    (all_features_performances[i], best_features_performances[i]) = \\\n",
    "            do_trial(alg, X, X[:, best_feature_indices[0:5]], y)\n",
    "\n",
    "plt.hist(best_features_performances - all_features_performances)\n",
    "plt.ylabel('number')\n",
    "plt.xlabel('performance gain from feature selection')\n",
    "plt.show()"
   ]
  },
  {
   "cell_type": "markdown",
   "metadata": {},
   "source": [
    "Next, we'll add a bunch of random features to X.  These features will be determined completely at random and should have no real linkage to the variable we are trying to predict."
   ]
  },
  {
   "cell_type": "code",
   "execution_count": 12,
   "metadata": {
    "collapsed": false
   },
   "outputs": [
    {
     "name": "stdout",
     "output_type": "stream",
     "text": [
      "Feature selection performance 0.830415, original features performance 0.804602\n"
     ]
    },
    {
     "data": {
      "image/png": "[encoded data removed]",
      "text/plain": [
       "<matplotlib.figure.Figure at 0x7f3c98682f10>"
      ]
     },
     "metadata": {},
     "output_type": "display_data"
    }
   ],
   "source": [
    "X = np.asarray(data[predictors])\n",
    "X = np.hstack((X, np.random.randn(X.shape[0], 10000)))\n",
    "\n",
    "# Perform feature selection\n",
    "selector = SelectKBest(f_classif, k=5)\n",
    "selector.fit(X, y)\n",
    "\n",
    "# Get the raw p-values for each feature, and transform from p-values into scores\n",
    "scores = -np.log10(selector.pvalues_)\n",
    "best_feature_indices = sorted(range(len(scores)), reverse=True, key=lambda i: scores[i])\n",
    "\n",
    "#alg = RandomForestClassifier(n_estimators=150, min_samples_split=8, min_samples_leaf=4)\n",
    "alg = LogisticRegression()\n",
    "\n",
    "n_trials = 10\n",
    "all_feats_acc = np.zeros(n_trials,)\n",
    "best_feats_acc = np.zeros(n_trials,)\n",
    "\n",
    "for i in range(n_trials):\n",
    "    all_feats_acc[i], best_feats_acc[i] = \\\n",
    "            do_trial(alg, X[:,:len(predictors)], X[:, best_feature_indices[:60]], y)\n",
    "\n",
    "print \"Feature selection performance %f, original features performance %f\" \\\n",
    "            % (best_feats_acc.mean(), all_feats_acc.mean())\n",
    "plt.hist(best_feats_acc - all_feats_acc)\n",
    "plt.xlabel('Change in accuracy when using SelectKBest')\n",
    "plt.ylabel('Number')\n",
    "plt.show()"
   ]
  },
  {
   "cell_type": "markdown",
   "metadata": {},
   "source": [
    "#### Fairly evaluating performance\n",
    "\n",
    "In order to do a fair evaluation, you would have to do your feature selection within your cross validation loop.  Specifically, for each cross validation fold you would have to do select the best features on only the training data for that fold.  The performance would then be evaluated on the testing data for that fold.  In this way, the selected features could vary across folds."
   ]
  },
  {
   "cell_type": "code",
   "execution_count": 13,
   "metadata": {
    "collapsed": false
   },
   "outputs": [
    {
     "name": "stdout",
     "output_type": "stream",
     "text": [
      "Feature selection performance 0.672391, original features performance 0.803030\n"
     ]
    },
    {
     "data": {
      "image/png": "[encoded data removed]",
      "text/plain": [
       "<matplotlib.figure.Figure at 0x7f3c5f4aa310>"
      ]
     },
     "metadata": {},
     "output_type": "display_data"
    }
   ],
   "source": [
    "from sklearn.pipeline import Pipeline\n",
    "\n",
    "def compare_two_algs(alg1, alg2, X1, X2, y):\n",
    "    # change Shuffle to False to see how this affects the conclusions\n",
    "    cv = cross_validation.StratifiedKFold(y, 3, shuffle=True)\n",
    "    score1 = cross_validation.cross_val_score(alg1, X1, y, cv=cv)\n",
    "    score2 = cross_validation.cross_val_score(alg2, X2, y, cv=cv)\n",
    "    return score1.mean(), score2.mean()\n",
    "\n",
    "selector = SelectKBest(f_classif, k=60)\n",
    "alg = LogisticRegression()\n",
    "pipeline = Pipeline([('feature selection', selector), ('classifier', alg)])\n",
    "\n",
    "all_feats_acc = np.zeros(n_trials,)\n",
    "best_feats_acc = np.zeros(n_trials,)\n",
    "\n",
    "for i in range(n_trials):\n",
    "    all_feats_acc[i], best_feats_acc[i] = compare_two_algs(alg,\n",
    "                                                           pipeline,\n",
    "                                                           X[:,:len(predictors)],\n",
    "                                                           X,\n",
    "                                                           y)\n",
    "\n",
    "print \"Feature selection performance %f, original features performance %f\" \\\n",
    "            % (best_feats_acc.mean(), all_feats_acc.mean())\n",
    "plt.hist(best_feats_acc - all_feats_acc)\n",
    "plt.xlabel('Change in accuracy when using SelectKBest')\n",
    "plt.ylabel('Number')\n",
    "plt.show()"
   ]
  },
  {
   "cell_type": "markdown",
   "metadata": {},
   "source": [
    "### Training Two Separate Models\n",
    "\n",
    "One idea that a lot of folks were interested in was training two separate models: one for men and one for women.  The theory being that age has a very different effect on male survival rate than female survival rate.  Let's do a simplified look at how well this idea would work."
   ]
  },
  {
   "cell_type": "code",
   "execution_count": 14,
   "metadata": {
    "collapsed": false
   },
   "outputs": [
    {
     "data": {
      "image/png": "[encoded data removed]",
      "text/plain": [
       "<matplotlib.figure.Figure at 0x7f3c5f5310d0>"
      ]
     },
     "metadata": {},
     "output_type": "display_data"
    }
   ],
   "source": [
    "def test_split_model(data, predictors):\n",
    "    cv = cross_validation.StratifiedKFold(data.Survived, 3, shuffle=True)\n",
    "\n",
    "    num_correct_split = 0\n",
    "    num_correct_unsplit = 0\n",
    "    num_total = 0\n",
    "    for train, test in cv:\n",
    "        X = data[predictors]\n",
    "        y = data.Survived\n",
    "        X_train, X_test, y_train, y_test = X.loc[train,:], X.loc[test,:], y.loc[train], y.loc[test]\n",
    "\n",
    "        test_groups = X_test.groupby('male')\n",
    "\n",
    "        for group_name, subset in X_train.groupby('male'):\n",
    "            model = LogisticRegression()\n",
    "            model.fit(X_train.drop('male',axis=1), y_train)\n",
    "\n",
    "            test_transformed = test_groups.get_group(group_name).drop('male',axis=1)\n",
    "            num_correct_split += (y.loc[test_transformed.index] == model.predict(test_transformed)).sum()\n",
    "            num_total += len(test_transformed)\n",
    "\n",
    "        model = LogisticRegression()\n",
    "        model.fit(X_train, y_train)\n",
    "        num_correct_unsplit += (y_test == model.predict(X_test)).sum()\n",
    "        \n",
    "    return num_correct_split / float(num_total), num_correct_unsplit / float(num_total)\n",
    "\n",
    "split_acc = np.zeros(n_trials,)\n",
    "unsplit_acc = np.zeros(n_trials,)\n",
    "for i in range(n_trials):\n",
    "    split_acc[i], unsplit_acc[i] = test_split_model(data, predictors)\n",
    "plt.hist(split_acc - unsplit_acc)\n",
    "plt.xlabel('Change in accuracy when splitting into two models')\n",
    "plt.ylabel('Number')\n",
    "plt.show()"
   ]
  },
  {
   "cell_type": "markdown",
   "metadata": {},
   "source": [
    "The problem with this approach is that we lose the benefits of sharing information between male and female passengers for effects that were common across the two.  An alternative is to simply create a dummy feature that encodes the interaction of age and male."
   ]
  },
  {
   "cell_type": "code",
   "execution_count": 15,
   "metadata": {
    "collapsed": false
   },
   "outputs": [
    {
     "data": {
      "image/png": "[encoded data removed]",
      "text/plain": [
       "<matplotlib.figure.Figure at 0x7f3c5f1674d0>"
      ]
     },
     "metadata": {},
     "output_type": "display_data"
    }
   ],
   "source": [
    "# this works because male is a binary variable\n",
    "data['male_age'] = data.Age*data.male\n",
    "orig_acc = np.zeros(n_trials,)\n",
    "with_interaction_acc = np.zeros(n_trials,)\n",
    "\n",
    "for i in range(n_trials):\n",
    "    orig_acc[i], with_interaction_acc[i] = do_trial(LogisticRegression(),\n",
    "                                                    data[predictors],\n",
    "                                                    data[predictors + [\"male_age\"]],\n",
    "                                                    data.Survived)\n",
    "plt.hist(with_interaction_acc - orig_acc)\n",
    "plt.xlabel('Change in accuracy when adding interaction of age and male')\n",
    "plt.ylabel('Number')\n",
    "plt.show()"
   ]
  },
  {
   "cell_type": "markdown",
   "metadata": {},
   "source": [
    "### Preparing Data for a Decision Tree\n",
    "\n",
    "Next, we'll touch on a couple of issues related to data preparation for tree-based classification.\n",
    "\n",
    "#### Monotonic Transformations\n",
    "Several people tried transforming their data using various monotonic functions (e.g. the log or the square of a number, provided it's positive).  While these transformations can make a difference for a model like logistic regression, they will not make a difference for something like a decision tree.\n",
    "\n",
    "This is a specific example of a broader need to consider feature engineering within the context of a particular model that you are investigating.\n",
    "\n",
    "#### Handling Categorical Variables\n",
    "\n",
    "Dealing with categorical variables can be difficult.  In this section we will explore the sensitivity of tree-based classifiers to two methods of encoding categorical variables: as ordinal values or as dummy variables.\n",
    "\n",
    "First, we determine the change in performance for a random forest with each of these two methods of encoding."
   ]
  },
  {
   "cell_type": "code",
   "execution_count": 16,
   "metadata": {
    "collapsed": false
   },
   "outputs": [
    {
     "name": "stdout",
     "output_type": "stream",
     "text": [
      "Accuracy when using dummies 0.78406285073\n",
      "Accuracy when using ordinals 0.783838383838\n"
     ]
    },
    {
     "data": {
      "image/png": "[encoded data removed]",
      "text/plain": [
       "<matplotlib.figure.Figure at 0x7f3c986860d0>"
      ]
     },
     "metadata": {},
     "output_type": "display_data"
    }
   ],
   "source": [
    "data_titles = pd.get_dummies(data.Title)\n",
    "\n",
    "dummies_acc = np.zeros(n_trials,)\n",
    "orig_acc = np.zeros(n_trials,)\n",
    "\n",
    "for i in range(n_trials):\n",
    "    dummies_acc[i], orig_acc[i] = do_trial(RandomForestClassifier(),\n",
    "                                           data_titles,\n",
    "                                           data[[\"Title\"]],\n",
    "                                           data.Survived)\n",
    "plt.hist(dummies_acc - orig_acc)\n",
    "plt.title('Random Forest')\n",
    "plt.xlabel('Change in accuracy when using Title dummies')\n",
    "plt.ylabel('Number')\n",
    "print \"Accuracy when using dummies\", dummies_acc.mean()\n",
    "print \"Accuracy when using ordinals\", orig_acc.mean()\n",
    "plt.show()"
   ]
  },
  {
   "cell_type": "markdown",
   "metadata": {},
   "source": [
    "As you can see the performance is basically unchanged.  Perhaps this was an artifact of a carefully constructed mapping between title and ordinal value.  To test this hypothesis, we can scramble this mapping and repeat our experiment above."
   ]
  },
  {
   "cell_type": "code",
   "execution_count": 18,
   "metadata": {
    "collapsed": false
   },
   "outputs": [
    {
     "name": "stdout",
     "output_type": "stream",
     "text": [
      "  Title  TitleRemap\n",
      "0     1           3\n",
      "1     3           6\n",
      "2     2           1\n",
      "3     3           6\n",
      "4     1           3\n",
      "Accuracy when using dummies 0.78406285073\n",
      "Accuracy when using ordinals 0.78125701459\n"
     ]
    },
    {
     "data": {
      "image/png": "[encoded data removed]",
      "text/plain": [
       "<matplotlib.figure.Figure at 0x7f3c736ed310>"
      ]
     },
     "metadata": {},
     "output_type": "display_data"
    }
   ],
   "source": [
    "from random import shuffle\n",
    "\n",
    "dummies_acc = np.zeros(n_trials,)\n",
    "orig_acc = np.zeros(n_trials,)\n",
    "\n",
    "title_keys = list(data.Title.value_counts().keys())\n",
    "remapping = list(title_keys)\n",
    "shuffle(remapping)\n",
    "title_remap = dict(zip(title_keys, remapping))\n",
    "data['TitleRemap'] = data.Title.apply(lambda x: title_remap[x])\n",
    "print data[['Title', 'TitleRemap']].head()\n",
    "\n",
    "for i in range(n_trials):\n",
    "    dummies_acc[i], orig_acc[i] = do_trial(RandomForestClassifier(),\n",
    "                                           data_titles,\n",
    "                                           data[[\"TitleRemap\"]],\n",
    "                                           data.Survived)\n",
    "plt.hist(dummies_acc - orig_acc)\n",
    "plt.xlabel('Change in accuracy when using Title dummies')\n",
    "plt.ylabel('Number')\n",
    "plt.title('Random Forest with remapped titles')\n",
    "print \"Accuracy when using dummies\", dummies_acc.mean()\n",
    "print \"Accuracy when using ordinals\", orig_acc.mean()\n",
    "plt.show()"
   ]
  },
  {
   "cell_type": "markdown",
   "metadata": {},
   "source": [
    "Try running the cell above a few times.  You will find that we are still getting the same results.  Next, we will do the same thing but for logistic regression.  First we compare dummies to ordinals using the encoding of titles given in the DataQuest tutorial."
   ]
  },
  {
   "cell_type": "code",
   "execution_count": 19,
   "metadata": {
    "collapsed": false
   },
   "outputs": [
    {
     "name": "stdout",
     "output_type": "stream",
     "text": [
      "Accuracy when using dummies 0.784511784512\n",
      "Accuracy when using ordinals 0.700336700337\n"
     ]
    },
    {
     "data": {
      "image/png": "[encoded data removed]",
      "text/plain": [
       "<matplotlib.figure.Figure at 0x7f3c5c52d510>"
      ]
     },
     "metadata": {},
     "output_type": "display_data"
    }
   ],
   "source": [
    "data_titles = pd.get_dummies(data.Title)\n",
    "\n",
    "dummies_acc = np.zeros(n_trials,)\n",
    "orig_acc = np.zeros(n_trials,)\n",
    "\n",
    "for i in range(n_trials):\n",
    "    dummies_acc[i], orig_acc[i] = do_trial(LogisticRegression(),\n",
    "                                           data_titles,\n",
    "                                           data[[\"Title\"]],\n",
    "                                           data.Survived)\n",
    "\n",
    "plt.hist(dummies_acc - orig_acc)\n",
    "plt.title('Logistic Regression')\n",
    "plt.xlabel('Change in accuracy when using Title dummies')\n",
    "plt.ylabel('Number')\n",
    "print \"Accuracy when using dummies\", dummies_acc.mean()\n",
    "print \"Accuracy when using ordinals\", orig_acc.mean()\n",
    "plt.show()"
   ]
  },
  {
   "cell_type": "markdown",
   "metadata": {},
   "source": [
    "We have a big jump in accuracy from using dummies.  Perhaps the title mapping was not as good as we thought.  Let's try the randomly generated title mapping and see what happens."
   ]
  },
  {
   "cell_type": "code",
   "execution_count": 25,
   "metadata": {
    "collapsed": false
   },
   "outputs": [
    {
     "name": "stdout",
     "output_type": "stream",
     "text": [
      "  Title  TitleRemap\n",
      "0     1           2\n",
      "1     3           8\n",
      "2     2           4\n",
      "3     3           8\n",
      "4     1           2\n"
     ]
    },
    {
     "data": {
      "image/png": "[encoded data removed]",
      "text/plain": [
       "<matplotlib.figure.Figure at 0x7f3c941250d0>"
      ]
     },
     "metadata": {},
     "output_type": "display_data"
    }
   ],
   "source": [
    "from random import shuffle\n",
    "\n",
    "remapped_acc = np.zeros(n_trials,)\n",
    "orig_acc = np.zeros(n_trials,)\n",
    "\n",
    "title_keys = list(data.Title.value_counts().keys())\n",
    "remapping = list(title_keys)\n",
    "shuffle(remapping)\n",
    "title_remap = dict(zip(title_keys, remapping))\n",
    "data['TitleRemap'] = data.Title.apply(lambda x: title_remap[x])\n",
    "print data[['Title', 'TitleRemap']].head()\n",
    "\n",
    "for i in range(n_trials):\n",
    "    remapped_acc[i], orig_acc[i] = do_trial(LogisticRegression(),\n",
    "                                            data[[\"TitleRemap\"]],\n",
    "                                            data[[\"Title\"]],\n",
    "                                            data.Survived)\n",
    "plt.hist(remapped_acc - orig_acc)\n",
    "plt.title('Logistic Regression')\n",
    "plt.xlabel('Change in accuracy when using remapped title')\n",
    "plt.ylabel('Number')\n",
    "plt.show()"
   ]
  },
  {
   "cell_type": "markdown",
   "metadata": {},
   "source": [
    "If we run the code above a few times, you will see that the results are quite variable.  This indicates that LogisticRegression is far less tolerant of improperly constructed ordinal representations for categorical data."
   ]
  },
  {
   "cell_type": "markdown",
   "metadata": {},
   "source": [
    "### More Advanced Data Imputation\n",
    "\n",
    "Some of the tutorials discussed alternate methods for filling in missing values such as age.  Here is an example of how you might do that in concise manner."
   ]
  },
  {
   "cell_type": "code",
   "execution_count": 29,
   "metadata": {
    "collapsed": false
   },
   "outputs": [
    {
     "name": "stdout",
     "output_type": "stream",
     "text": [
      "Means before Pclass\n",
      "1    38.233441\n",
      "2    29.877630\n",
      "3    25.140620\n",
      "Name: Age, dtype: float64\n",
      "\n",
      "Doing imputation\n",
      "\n",
      "Nulls after PassengerId      0\n",
      "Survived         0\n",
      "Pclass           0\n",
      "Name             0\n",
      "Sex              0\n",
      "Age              0\n",
      "SibSp            0\n",
      "Parch            0\n",
      "Ticket           0\n",
      "Fare             0\n",
      "Cabin          687\n",
      "Embarked         2\n",
      "dtype: int64\n",
      "Means after Pclass\n",
      "1    38.233441\n",
      "2    29.877630\n",
      "3    25.140620\n",
      "Name: Age, dtype: float64\n"
     ]
    }
   ],
   "source": [
    "data = pd.read_csv('../../datasets/titanic_train.csv')\n",
    "\n",
    "print \"Means before\", data.groupby('Pclass').Age.mean()\n",
    "\n",
    "for name, group in data.groupby('Pclass'):\n",
    "    data.loc[group.index, 'Age'] = group.Age.fillna(group.Age.mean())\n",
    "\n",
    "print\n",
    "print \"Doing imputation\"    \n",
    "print\n",
    "print \"Nulls after\", data.isnull().sum()\n",
    "print \"Means after\", data.groupby('Pclass').Age.mean()"
   ]
  },
  {
   "cell_type": "markdown",
   "metadata": {},
   "source": [
    "### Best Practices for Documenting Your Models\n",
    "\n",
    "Based on what I saw in the model iteration 2 notebook's, here are a few things that I really liked.\n",
    "\n",
    "#### List Your References up Front\n",
    "\n",
    "When folks put a list of all the references they used up front, it really helped frame my engagement with the notebook.  I recommend doing this in a front matter section after your notebook abstract, but before you dive into your paticular models.\n",
    "\n",
    "#### Cite your sources throughout\n",
    "\n",
    "Whenever you try something out that was motivated by another source, put in a citation.  You could either do this by the name of the source, or you could do it using some sort of reference numbering system (similar to a bibliography).  Maybe there is even a way to automate this process in Jupyter (something similar to bibtex)?\n",
    "\n",
    "#### Situate Your Current Investigations\n",
    "\n",
    "Several people explicitly referenced results from their earlier notebooks as a way to motivate the models they were trying in iteration 2.  I found this to be very effective.  The exact format of these references varied significantly (e.g. reproducing a visualization, talking about a prior result).  I think any method is fine, but I would make sure that it is specific enough that you can unambiguously find the analysis that you are referencing."
   ]
  },
  {
   "cell_type": "markdown",
   "metadata": {},
   "source": [
    "### Interpreting Your Kaggle Score\n",
    "\n",
    "I'll talk about several issues that arise when interpreting your Kaggle score.  I mean this both from a self-efficacy standpoint as well as a technical standpoint."
   ]
  }
 ],
 "metadata": {
  "kernelspec": {
   "display_name": "Python 2",
   "language": "python",
   "name": "python2"
  },
  "language_info": {
   "codemirror_mode": {
    "name": "ipython",
    "version": 2
   },
   "file_extension": ".py",
   "mimetype": "text/x-python",
   "name": "python",
   "nbconvert_exporter": "python",
   "pygments_lexer": "ipython2",
   "version": "2.7.11"
  }
 },
 "nbformat": 4,
 "nbformat_minor": 0
}
