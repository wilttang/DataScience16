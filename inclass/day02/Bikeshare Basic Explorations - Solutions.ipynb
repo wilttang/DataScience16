{
 "cells": [
  {
   "cell_type": "markdown",
   "metadata": {},
   "source": [
    "## An Exploration of the Bike Share Kaggle Dataset\n",
    "\n",
    "In this document, I will show you how to do some basic exploration and cleaning of the kaggle Bike share dataset.  The data is checked into the repository under `DataScience16/datasets/kaggle_bikeshare_train.csv`.  The code here relies on you running this notebook from the `DataScience16/exercises` directory."
   ]
  },
  {
   "cell_type": "markdown",
   "metadata": {},
   "source": [
    "First, we will read the data into a Pandas dataframe."
   ]
  },
  {
   "cell_type": "code",
   "execution_count": 27,
   "metadata": {
    "collapsed": false
   },
   "outputs": [
    {
     "name": "stdout",
     "output_type": "stream",
     "text": [
      "              datetime  season  holiday  workingday  weather  temp   atemp  \\\n",
      "0  2011-01-01 00:00:00       1        0           0        1  9.84  14.395   \n",
      "1  2011-01-01 01:00:00       1        0           0        1  9.02  13.635   \n",
      "2  2011-01-01 02:00:00       1        0           0        1  9.02  13.635   \n",
      "3  2011-01-01 03:00:00       1        0           0        1  9.84  14.395   \n",
      "4  2011-01-01 04:00:00       1        0           0        1  9.84  14.395   \n",
      "\n",
      "   humidity  windspeed  casual  registered  count  \n",
      "0        81          0       3          13     16  \n",
      "1        80          0       8          32     40  \n",
      "2        80          0       5          27     32  \n",
      "3        75          0       3          10     13  \n",
      "4        75          0       0           1      1  \n",
      "             season       holiday    workingday       weather         temp  \\\n",
      "count  10886.000000  10886.000000  10886.000000  10886.000000  10886.00000   \n",
      "mean       2.506614      0.028569      0.680875      1.418427     20.23086   \n",
      "std        1.116174      0.166599      0.466159      0.633839      7.79159   \n",
      "min        1.000000      0.000000      0.000000      1.000000      0.82000   \n",
      "25%        2.000000      0.000000      0.000000      1.000000     13.94000   \n",
      "50%        3.000000      0.000000      1.000000      1.000000     20.50000   \n",
      "75%        4.000000      0.000000      1.000000      2.000000     26.24000   \n",
      "max        4.000000      1.000000      1.000000      4.000000     41.00000   \n",
      "\n",
      "              atemp      humidity     windspeed        casual    registered  \\\n",
      "count  10886.000000  10886.000000  10886.000000  10886.000000  10886.000000   \n",
      "mean      23.655084     61.886460     12.799395     36.021955    155.552177   \n",
      "std        8.474601     19.245033      8.164537     49.960477    151.039033   \n",
      "min        0.760000      0.000000      0.000000      0.000000      0.000000   \n",
      "25%       16.665000     47.000000      7.001500      4.000000     36.000000   \n",
      "50%       24.240000     62.000000     12.998000     17.000000    118.000000   \n",
      "75%       31.060000     77.000000     16.997900     49.000000    222.000000   \n",
      "max       45.455000    100.000000     56.996900    367.000000    886.000000   \n",
      "\n",
      "              count  \n",
      "count  10886.000000  \n",
      "mean     191.574132  \n",
      "std      181.144454  \n",
      "min        1.000000  \n",
      "25%       42.000000  \n",
      "50%      145.000000  \n",
      "75%      284.000000  \n",
      "max      977.000000  \n"
     ]
    }
   ],
   "source": [
    "import pandas as pd\n",
    "\n",
    "data = pd.read_csv('../../datasets/kaggle_bikeshare_train.csv')\n",
    "\n",
    "print data.head()\n",
    "print data.describe()"
   ]
  },
  {
   "cell_type": "markdown",
   "metadata": {},
   "source": [
    "### Checking for Missing values\n",
    "\n",
    "It's always a good idea to check form missing values in your data.  To do this we will use the pandas isnull() function."
   ]
  },
  {
   "cell_type": "code",
   "execution_count": 28,
   "metadata": {
    "collapsed": false
   },
   "outputs": [
    {
     "data": {
      "text/plain": [
       "datetime      0\n",
       "season        0\n",
       "holiday       0\n",
       "workingday    0\n",
       "weather       0\n",
       "temp          0\n",
       "atemp         0\n",
       "humidity      0\n",
       "windspeed     0\n",
       "casual        0\n",
       "registered    0\n",
       "count         0\n",
       "dtype: int64"
      ]
     },
     "execution_count": 28,
     "metadata": {},
     "output_type": "execute_result"
    }
   ],
   "source": [
    "data.isnull().sum()"
   ]
  },
  {
   "cell_type": "markdown",
   "metadata": {},
   "source": [
    "### Validating our Recodes\n",
    "\n",
    "The next thing to do is to make sure we understand some of recodes in the data.  We know that we are trying to predict count which is presumably a combination of casual and registered.  Let's check this hypothesis.  Note: this is more about checking our own understanding rather than checking to validity of the data (since we can be reasonably confident that it is correct).  However, you could imagine this would be a good unit test for recodes that you created yourself.  In fact, this unit test would serve as a guide for anyone else reading your code as to what exactly the recode means."
   ]
  },
  {
   "cell_type": "code",
   "execution_count": 29,
   "metadata": {
    "collapsed": false
   },
   "outputs": [
    {
     "data": {
      "text/plain": [
       "1.0"
      ]
     },
     "execution_count": 29,
     "metadata": {},
     "output_type": "execute_result"
    }
   ],
   "source": [
    "((data.registered+data.casual) == data['count']).mean()"
   ]
  },
  {
   "cell_type": "markdown",
   "metadata": {},
   "source": [
    "You may have noticed we used the dictionary notation to lookup `count` whereas we used the dot-notation to lookup registered and casual.  The reason for this is that is a method of the DataFrame class, and thus it is ambiguous which we are referring to (the column or the method)."
   ]
  },
  {
   "cell_type": "code",
   "execution_count": 30,
   "metadata": {
    "collapsed": false
   },
   "outputs": [
    {
     "name": "stdout",
     "output_type": "stream",
     "text": [
      "<class 'pandas.core.series.Series'>\n",
      "<class 'pandas.core.series.Series'>\n",
      "<type 'instancemethod'>\n",
      "<class 'pandas.core.series.Series'>\n"
     ]
    }
   ],
   "source": [
    "print type(data.registered)\n",
    "print type(data['registered'])\n",
    "print type(data.count)\n",
    "print type(data['count'])"
   ]
  },
  {
   "cell_type": "markdown",
   "metadata": {},
   "source": [
    "### Exploring Basic Properties of the Data\n",
    "\n",
    "Next, we will look at each of the variables in some more detail."
   ]
  },
  {
   "cell_type": "code",
   "execution_count": 31,
   "metadata": {
    "collapsed": false
   },
   "outputs": [
    {
     "data": {
      "image/png": "[encoded data removed]",
      "text/plain": [
       "<matplotlib.figure.Figure at 0x7f82340afd90>"
      ]
     },
     "metadata": {},
     "output_type": "display_data"
    }
   ],
   "source": [
    "import numpy as np\n",
    "import matplotlib.pyplot as plt\n",
    "\n",
    "%matplotlib inline\n",
    "\n",
    "plt.hist(data.casual, bins=np.arange(0,1000,10), alpha=0.5)\n",
    "plt.hist(data.registered, bins=np.arange(0,1000,10), alpha=0.5)\n",
    "plt.legend(['casual','registered'])\n",
    "plt.show()"
   ]
  },
  {
   "cell_type": "markdown",
   "metadata": {},
   "source": [
    "### ThinkPlot\n",
    "\n",
    "Now we wil try the same thing using ThinkPlot"
   ]
  },
  {
   "cell_type": "code",
   "execution_count": 32,
   "metadata": {
    "collapsed": false,
    "scrolled": true
   },
   "outputs": [
    {
     "data": {
      "image/png": "[encoded data removed]",
      "text/plain": [
       "<matplotlib.figure.Figure at 0x7f821563ff50>"
      ]
     },
     "metadata": {},
     "output_type": "display_data"
    },
    {
     "data": {
      "text/plain": [
       "<matplotlib.figure.Figure at 0x7f8213a7e3d0>"
      ]
     },
     "metadata": {},
     "output_type": "display_data"
    }
   ],
   "source": [
    "import sys\n",
    "sys.path.append('../../ThinkStats2')\n",
    "import thinkplot\n",
    "import thinkstats2\n",
    "\n",
    "hist = thinkstats2.Hist(data.registered, label='registered')\n",
    "thinkplot.Hist(hist, width=1)\n",
    "hist = thinkstats2.Hist(data.casual, label='casual')\n",
    "thinkplot.Hist(hist, width=1)\n",
    "thinkplot.Show(xlabel=\"Number of Riders\", ylabel=\"Frequency\")"
   ]
  },
  {
   "cell_type": "markdown",
   "metadata": {},
   "source": [
    "## Investigating Relationship Between Ridership and Other Factors\n",
    "\n",
    "We will investigate some different methods for determining how the value of 1 factor affects the value fo another.  As a first example, let's determine the effect that whether or not it is a working day has on the ridership of both casual and registered riders."
   ]
  },
  {
   "cell_type": "markdown",
   "metadata": {},
   "source": [
    "First, let's try the loop-based method. This is definitely not a suggested way to solve the problem, but I wanted to highlight the performance differences."
   ]
  },
  {
   "cell_type": "code",
   "execution_count": 33,
   "metadata": {
    "collapsed": false
   },
   "outputs": [
    {
     "name": "stdout",
     "output_type": "stream",
     "text": [
      "188.50662061\n",
      "193.011872639\n",
      "elapsed time 4.96393203735\n"
     ]
    }
   ],
   "source": [
    "import time\n",
    "start_time = time.time()\n",
    "d = {0 : [], 1: []}\n",
    "for i in data.index:\n",
    "    d[data.loc[i, 'workingday']].append(data.loc[i, 'count'])\n",
    "print sum(d[0])/float(len(d[0]))\n",
    "print sum(d[1])/float(len(d[1]))\n",
    "print \"elapsed time\", time.time() - start_time"
   ]
  },
  {
   "cell_type": "markdown",
   "metadata": {},
   "source": [
    "Next, we'll select a subset of the cells of the data frame and use mean to figure things out."
   ]
  },
  {
   "cell_type": "code",
   "execution_count": 34,
   "metadata": {
    "collapsed": false
   },
   "outputs": [
    {
     "name": "stdout",
     "output_type": "stream",
     "text": [
      "188.50662061\n",
      "193.011872639\n",
      "elapsed time 0.00465703010559\n"
     ]
    }
   ],
   "source": [
    "start_time = time.time()\n",
    "print data[data.workingday == 0]['count'].mean()\n",
    "print data[data.workingday == 1]['count'].mean()\n",
    "print \"elapsed time\", time.time() - start_time"
   ]
  },
  {
   "cell_type": "markdown",
   "metadata": {},
   "source": [
    "Finally, we'll use the groupby operation to do this in an even more convenient fashion."
   ]
  },
  {
   "cell_type": "code",
   "execution_count": 35,
   "metadata": {
    "collapsed": false
   },
   "outputs": [
    {
     "name": "stdout",
     "output_type": "stream",
     "text": [
      "elapsed time 0.00151801109314\n"
     ]
    }
   ],
   "source": [
    "start_time = time.time()\n",
    "data.groupby('workingday')['count'].mean()\n",
    "print \"elapsed time\", time.time() - start_time"
   ]
  },
  {
   "cell_type": "markdown",
   "metadata": {},
   "source": [
    "### Other Uses of Groupby"
   ]
  },
  {
   "cell_type": "code",
   "execution_count": 36,
   "metadata": {
    "collapsed": false
   },
   "outputs": [
    {
     "data": {
      "text/html": [
       "<div>\n",
       "<table border=\"1\" class=\"dataframe\">\n",
       "  <thead>\n",
       "    <tr style=\"text-align: right;\">\n",
       "      <th></th>\n",
       "      <th>season</th>\n",
       "      <th>workingday</th>\n",
       "      <th>weather</th>\n",
       "      <th>temp</th>\n",
       "      <th>atemp</th>\n",
       "      <th>humidity</th>\n",
       "      <th>windspeed</th>\n",
       "      <th>casual</th>\n",
       "      <th>registered</th>\n",
       "      <th>count</th>\n",
       "    </tr>\n",
       "    <tr>\n",
       "      <th>holiday</th>\n",
       "      <th></th>\n",
       "      <th></th>\n",
       "      <th></th>\n",
       "      <th></th>\n",
       "      <th></th>\n",
       "      <th></th>\n",
       "      <th></th>\n",
       "      <th></th>\n",
       "      <th></th>\n",
       "      <th></th>\n",
       "    </tr>\n",
       "  </thead>\n",
       "  <tbody>\n",
       "    <tr>\n",
       "      <th>0</th>\n",
       "      <td>2.500993</td>\n",
       "      <td>0.700898</td>\n",
       "      <td>1.419196</td>\n",
       "      <td>20.230466</td>\n",
       "      <td>23.662662</td>\n",
       "      <td>61.880095</td>\n",
       "      <td>12.787623</td>\n",
       "      <td>35.646714</td>\n",
       "      <td>156.094941</td>\n",
       "      <td>191.741655</td>\n",
       "    </tr>\n",
       "    <tr>\n",
       "      <th>1</th>\n",
       "      <td>2.697749</td>\n",
       "      <td>0.000000</td>\n",
       "      <td>1.392283</td>\n",
       "      <td>20.244244</td>\n",
       "      <td>23.397395</td>\n",
       "      <td>62.102894</td>\n",
       "      <td>13.199711</td>\n",
       "      <td>48.781350</td>\n",
       "      <td>137.096463</td>\n",
       "      <td>185.877814</td>\n",
       "    </tr>\n",
       "  </tbody>\n",
       "</table>\n",
       "</div>"
      ],
      "text/plain": [
       "           season  workingday   weather       temp      atemp   humidity  \\\n",
       "holiday                                                                    \n",
       "0        2.500993    0.700898  1.419196  20.230466  23.662662  61.880095   \n",
       "1        2.697749    0.000000  1.392283  20.244244  23.397395  62.102894   \n",
       "\n",
       "         windspeed     casual  registered       count  \n",
       "holiday                                                \n",
       "0        12.787623  35.646714  156.094941  191.741655  \n",
       "1        13.199711  48.781350  137.096463  185.877814  "
      ]
     },
     "execution_count": 36,
     "metadata": {},
     "output_type": "execute_result"
    }
   ],
   "source": [
    "data.groupby('holiday').mean()"
   ]
  },
  {
   "cell_type": "code",
   "execution_count": 37,
   "metadata": {
    "collapsed": false
   },
   "outputs": [
    {
     "data": {
      "text/html": [
       "<div>\n",
       "<table border=\"1\" class=\"dataframe\">\n",
       "  <thead>\n",
       "    <tr style=\"text-align: right;\">\n",
       "      <th></th>\n",
       "      <th>holiday</th>\n",
       "      <th>workingday</th>\n",
       "      <th>weather</th>\n",
       "      <th>temp</th>\n",
       "      <th>atemp</th>\n",
       "      <th>humidity</th>\n",
       "      <th>windspeed</th>\n",
       "      <th>casual</th>\n",
       "      <th>registered</th>\n",
       "      <th>count</th>\n",
       "    </tr>\n",
       "    <tr>\n",
       "      <th>season</th>\n",
       "      <th></th>\n",
       "      <th></th>\n",
       "      <th></th>\n",
       "      <th></th>\n",
       "      <th></th>\n",
       "      <th></th>\n",
       "      <th></th>\n",
       "      <th></th>\n",
       "      <th></th>\n",
       "      <th></th>\n",
       "    </tr>\n",
       "  </thead>\n",
       "  <tbody>\n",
       "    <tr>\n",
       "      <th>1</th>\n",
       "      <td>0.026433</td>\n",
       "      <td>0.680566</td>\n",
       "      <td>1.424423</td>\n",
       "      <td>12.530491</td>\n",
       "      <td>15.228956</td>\n",
       "      <td>56.297841</td>\n",
       "      <td>14.636978</td>\n",
       "      <td>15.489576</td>\n",
       "      <td>100.853686</td>\n",
       "      <td>116.343261</td>\n",
       "    </tr>\n",
       "    <tr>\n",
       "      <th>2</th>\n",
       "      <td>0.017563</td>\n",
       "      <td>0.692645</td>\n",
       "      <td>1.422978</td>\n",
       "      <td>22.823483</td>\n",
       "      <td>26.647098</td>\n",
       "      <td>60.852909</td>\n",
       "      <td>13.405607</td>\n",
       "      <td>47.446762</td>\n",
       "      <td>167.804610</td>\n",
       "      <td>215.251372</td>\n",
       "    </tr>\n",
       "    <tr>\n",
       "      <th>3</th>\n",
       "      <td>0.035126</td>\n",
       "      <td>0.675082</td>\n",
       "      <td>1.366630</td>\n",
       "      <td>28.789111</td>\n",
       "      <td>32.540783</td>\n",
       "      <td>64.123674</td>\n",
       "      <td>11.508862</td>\n",
       "      <td>52.220271</td>\n",
       "      <td>182.196853</td>\n",
       "      <td>234.417124</td>\n",
       "    </tr>\n",
       "    <tr>\n",
       "      <th>4</th>\n",
       "      <td>0.035113</td>\n",
       "      <td>0.675201</td>\n",
       "      <td>1.459766</td>\n",
       "      <td>16.649239</td>\n",
       "      <td>20.059909</td>\n",
       "      <td>66.173738</td>\n",
       "      <td>11.678147</td>\n",
       "      <td>28.580834</td>\n",
       "      <td>170.407462</td>\n",
       "      <td>198.988296</td>\n",
       "    </tr>\n",
       "  </tbody>\n",
       "</table>\n",
       "</div>"
      ],
      "text/plain": [
       "         holiday  workingday   weather       temp      atemp   humidity  \\\n",
       "season                                                                    \n",
       "1       0.026433    0.680566  1.424423  12.530491  15.228956  56.297841   \n",
       "2       0.017563    0.692645  1.422978  22.823483  26.647098  60.852909   \n",
       "3       0.035126    0.675082  1.366630  28.789111  32.540783  64.123674   \n",
       "4       0.035113    0.675201  1.459766  16.649239  20.059909  66.173738   \n",
       "\n",
       "        windspeed     casual  registered       count  \n",
       "season                                                \n",
       "1       14.636978  15.489576  100.853686  116.343261  \n",
       "2       13.405607  47.446762  167.804610  215.251372  \n",
       "3       11.508862  52.220271  182.196853  234.417124  \n",
       "4       11.678147  28.580834  170.407462  198.988296  "
      ]
     },
     "execution_count": 37,
     "metadata": {},
     "output_type": "execute_result"
    }
   ],
   "source": [
    "data.groupby('season').mean()"
   ]
  },
  {
   "cell_type": "code",
   "execution_count": 38,
   "metadata": {
    "collapsed": false
   },
   "outputs": [
    {
     "data": {
      "text/html": [
       "<div>\n",
       "<table border=\"1\" class=\"dataframe\">\n",
       "  <thead>\n",
       "    <tr style=\"text-align: right;\">\n",
       "      <th></th>\n",
       "      <th></th>\n",
       "      <th>holiday</th>\n",
       "      <th>weather</th>\n",
       "      <th>temp</th>\n",
       "      <th>atemp</th>\n",
       "      <th>humidity</th>\n",
       "      <th>windspeed</th>\n",
       "      <th>casual</th>\n",
       "      <th>registered</th>\n",
       "      <th>count</th>\n",
       "    </tr>\n",
       "    <tr>\n",
       "      <th>season</th>\n",
       "      <th>workingday</th>\n",
       "      <th></th>\n",
       "      <th></th>\n",
       "      <th></th>\n",
       "      <th></th>\n",
       "      <th></th>\n",
       "      <th></th>\n",
       "      <th></th>\n",
       "      <th></th>\n",
       "      <th></th>\n",
       "    </tr>\n",
       "  </thead>\n",
       "  <tbody>\n",
       "    <tr>\n",
       "      <th rowspan=\"2\" valign=\"top\">1</th>\n",
       "      <th>0</th>\n",
       "      <td>0.082751</td>\n",
       "      <td>1.446387</td>\n",
       "      <td>12.344918</td>\n",
       "      <td>14.907646</td>\n",
       "      <td>56.988345</td>\n",
       "      <td>15.776540</td>\n",
       "      <td>26.615385</td>\n",
       "      <td>79.111888</td>\n",
       "      <td>105.727273</td>\n",
       "    </tr>\n",
       "    <tr>\n",
       "      <th>1</th>\n",
       "      <td>0.000000</td>\n",
       "      <td>1.414114</td>\n",
       "      <td>12.617593</td>\n",
       "      <td>15.379768</td>\n",
       "      <td>55.973742</td>\n",
       "      <td>14.102107</td>\n",
       "      <td>10.267505</td>\n",
       "      <td>111.058534</td>\n",
       "      <td>121.326039</td>\n",
       "    </tr>\n",
       "    <tr>\n",
       "      <th rowspan=\"2\" valign=\"top\">2</th>\n",
       "      <th>0</th>\n",
       "      <td>0.057143</td>\n",
       "      <td>1.388095</td>\n",
       "      <td>22.742310</td>\n",
       "      <td>26.536792</td>\n",
       "      <td>61.114286</td>\n",
       "      <td>11.556256</td>\n",
       "      <td>79.867857</td>\n",
       "      <td>142.825000</td>\n",
       "      <td>222.692857</td>\n",
       "    </tr>\n",
       "    <tr>\n",
       "      <th>1</th>\n",
       "      <td>0.000000</td>\n",
       "      <td>1.438457</td>\n",
       "      <td>22.859503</td>\n",
       "      <td>26.696046</td>\n",
       "      <td>60.736926</td>\n",
       "      <td>14.226238</td>\n",
       "      <td>33.060222</td>\n",
       "      <td>178.889065</td>\n",
       "      <td>211.949287</td>\n",
       "    </tr>\n",
       "    <tr>\n",
       "      <th rowspan=\"2\" valign=\"top\">3</th>\n",
       "      <th>0</th>\n",
       "      <td>0.108108</td>\n",
       "      <td>1.369369</td>\n",
       "      <td>28.675068</td>\n",
       "      <td>32.735743</td>\n",
       "      <td>65.875000</td>\n",
       "      <td>11.862931</td>\n",
       "      <td>82.248874</td>\n",
       "      <td>150.271396</td>\n",
       "      <td>232.520270</td>\n",
       "    </tr>\n",
       "    <tr>\n",
       "      <th>1</th>\n",
       "      <td>0.000000</td>\n",
       "      <td>1.365312</td>\n",
       "      <td>28.844000</td>\n",
       "      <td>32.446949</td>\n",
       "      <td>63.280759</td>\n",
       "      <td>11.338448</td>\n",
       "      <td>37.767480</td>\n",
       "      <td>197.562602</td>\n",
       "      <td>235.330081</td>\n",
       "    </tr>\n",
       "    <tr>\n",
       "      <th rowspan=\"2\" valign=\"top\">4</th>\n",
       "      <th>0</th>\n",
       "      <td>0.108108</td>\n",
       "      <td>1.346847</td>\n",
       "      <td>15.696351</td>\n",
       "      <td>19.106227</td>\n",
       "      <td>64.557432</td>\n",
       "      <td>11.411330</td>\n",
       "      <td>48.507883</td>\n",
       "      <td>143.629505</td>\n",
       "      <td>192.137387</td>\n",
       "    </tr>\n",
       "    <tr>\n",
       "      <th>1</th>\n",
       "      <td>0.000000</td>\n",
       "      <td>1.514085</td>\n",
       "      <td>17.107616</td>\n",
       "      <td>20.518667</td>\n",
       "      <td>66.951246</td>\n",
       "      <td>11.806496</td>\n",
       "      <td>18.995125</td>\n",
       "      <td>183.288732</td>\n",
       "      <td>202.283857</td>\n",
       "    </tr>\n",
       "  </tbody>\n",
       "</table>\n",
       "</div>"
      ],
      "text/plain": [
       "                    holiday   weather       temp      atemp   humidity  \\\n",
       "season workingday                                                        \n",
       "1      0           0.082751  1.446387  12.344918  14.907646  56.988345   \n",
       "       1           0.000000  1.414114  12.617593  15.379768  55.973742   \n",
       "2      0           0.057143  1.388095  22.742310  26.536792  61.114286   \n",
       "       1           0.000000  1.438457  22.859503  26.696046  60.736926   \n",
       "3      0           0.108108  1.369369  28.675068  32.735743  65.875000   \n",
       "       1           0.000000  1.365312  28.844000  32.446949  63.280759   \n",
       "4      0           0.108108  1.346847  15.696351  19.106227  64.557432   \n",
       "       1           0.000000  1.514085  17.107616  20.518667  66.951246   \n",
       "\n",
       "                   windspeed     casual  registered       count  \n",
       "season workingday                                                \n",
       "1      0           15.776540  26.615385   79.111888  105.727273  \n",
       "       1           14.102107  10.267505  111.058534  121.326039  \n",
       "2      0           11.556256  79.867857  142.825000  222.692857  \n",
       "       1           14.226238  33.060222  178.889065  211.949287  \n",
       "3      0           11.862931  82.248874  150.271396  232.520270  \n",
       "       1           11.338448  37.767480  197.562602  235.330081  \n",
       "4      0           11.411330  48.507883  143.629505  192.137387  \n",
       "       1           11.806496  18.995125  183.288732  202.283857  "
      ]
     },
     "execution_count": 38,
     "metadata": {},
     "output_type": "execute_result"
    }
   ],
   "source": [
    "data.groupby(['season','workingday']).mean()"
   ]
  },
  {
   "cell_type": "code",
   "execution_count": 39,
   "metadata": {
    "collapsed": false
   },
   "outputs": [
    {
     "data": {
      "text/html": [
       "<div>\n",
       "<table border=\"1\" class=\"dataframe\">\n",
       "  <thead>\n",
       "    <tr style=\"text-align: right;\">\n",
       "      <th></th>\n",
       "      <th></th>\n",
       "      <th>holiday</th>\n",
       "      <th>workingday</th>\n",
       "      <th>weather</th>\n",
       "      <th>temp</th>\n",
       "      <th>atemp</th>\n",
       "      <th>humidity</th>\n",
       "      <th>windspeed</th>\n",
       "      <th>casual</th>\n",
       "      <th>registered</th>\n",
       "      <th>count</th>\n",
       "    </tr>\n",
       "    <tr>\n",
       "      <th>season</th>\n",
       "      <th>atemp</th>\n",
       "      <th></th>\n",
       "      <th></th>\n",
       "      <th></th>\n",
       "      <th></th>\n",
       "      <th></th>\n",
       "      <th></th>\n",
       "      <th></th>\n",
       "      <th></th>\n",
       "      <th></th>\n",
       "      <th></th>\n",
       "    </tr>\n",
       "  </thead>\n",
       "  <tbody>\n",
       "    <tr>\n",
       "      <th rowspan=\"2\" valign=\"top\">1</th>\n",
       "      <th>False</th>\n",
       "      <td>0.034809</td>\n",
       "      <td>0.687220</td>\n",
       "      <td>1.439085</td>\n",
       "      <td>10.145410</td>\n",
       "      <td>12.404886</td>\n",
       "      <td>57.071109</td>\n",
       "      <td>13.759171</td>\n",
       "      <td>7.768772</td>\n",
       "      <td>82.475883</td>\n",
       "      <td>90.244654</td>\n",
       "    </tr>\n",
       "    <tr>\n",
       "      <th>True</th>\n",
       "      <td>0.001481</td>\n",
       "      <td>0.660741</td>\n",
       "      <td>1.380741</td>\n",
       "      <td>19.636267</td>\n",
       "      <td>23.642593</td>\n",
       "      <td>53.994074</td>\n",
       "      <td>17.252192</td>\n",
       "      <td>38.491852</td>\n",
       "      <td>155.605926</td>\n",
       "      <td>194.097778</td>\n",
       "    </tr>\n",
       "    <tr>\n",
       "      <th rowspan=\"2\" valign=\"top\">2</th>\n",
       "      <th>False</th>\n",
       "      <td>0.016835</td>\n",
       "      <td>0.629630</td>\n",
       "      <td>1.528620</td>\n",
       "      <td>13.807475</td>\n",
       "      <td>16.495000</td>\n",
       "      <td>68.784512</td>\n",
       "      <td>14.320246</td>\n",
       "      <td>13.407407</td>\n",
       "      <td>75.882155</td>\n",
       "      <td>89.289562</td>\n",
       "    </tr>\n",
       "    <tr>\n",
       "      <th>True</th>\n",
       "      <td>0.017652</td>\n",
       "      <td>0.700328</td>\n",
       "      <td>1.410099</td>\n",
       "      <td>23.922726</td>\n",
       "      <td>27.884854</td>\n",
       "      <td>59.885878</td>\n",
       "      <td>13.294093</td>\n",
       "      <td>51.596880</td>\n",
       "      <td>179.011905</td>\n",
       "      <td>230.608785</td>\n",
       "    </tr>\n",
       "    <tr>\n",
       "      <th rowspan=\"2\" valign=\"top\">3</th>\n",
       "      <th>False</th>\n",
       "      <td>0.000000</td>\n",
       "      <td>1.000000</td>\n",
       "      <td>1.346154</td>\n",
       "      <td>28.573846</td>\n",
       "      <td>12.702692</td>\n",
       "      <td>58.346154</td>\n",
       "      <td>15.385262</td>\n",
       "      <td>57.346154</td>\n",
       "      <td>222.384615</td>\n",
       "      <td>279.730769</td>\n",
       "    </tr>\n",
       "    <tr>\n",
       "      <th>True</th>\n",
       "      <td>0.035464</td>\n",
       "      <td>0.671962</td>\n",
       "      <td>1.366827</td>\n",
       "      <td>28.791178</td>\n",
       "      <td>32.731322</td>\n",
       "      <td>64.179165</td>\n",
       "      <td>11.471630</td>\n",
       "      <td>52.171038</td>\n",
       "      <td>181.810861</td>\n",
       "      <td>233.981899</td>\n",
       "    </tr>\n",
       "    <tr>\n",
       "      <th rowspan=\"2\" valign=\"top\">4</th>\n",
       "      <th>False</th>\n",
       "      <td>0.027653</td>\n",
       "      <td>0.624813</td>\n",
       "      <td>1.395366</td>\n",
       "      <td>12.710613</td>\n",
       "      <td>15.604593</td>\n",
       "      <td>64.970105</td>\n",
       "      <td>11.120022</td>\n",
       "      <td>14.521674</td>\n",
       "      <td>143.242900</td>\n",
       "      <td>157.764574</td>\n",
       "    </tr>\n",
       "    <tr>\n",
       "      <th>True</th>\n",
       "      <td>0.042264</td>\n",
       "      <td>0.723496</td>\n",
       "      <td>1.521490</td>\n",
       "      <td>20.424226</td>\n",
       "      <td>24.330118</td>\n",
       "      <td>67.327364</td>\n",
       "      <td>12.213083</td>\n",
       "      <td>42.055874</td>\n",
       "      <td>196.443410</td>\n",
       "      <td>238.499284</td>\n",
       "    </tr>\n",
       "  </tbody>\n",
       "</table>\n",
       "</div>"
      ],
      "text/plain": [
       "               holiday  workingday   weather       temp      atemp   humidity  \\\n",
       "season atemp                                                                    \n",
       "1      False  0.034809    0.687220  1.439085  10.145410  12.404886  57.071109   \n",
       "       True   0.001481    0.660741  1.380741  19.636267  23.642593  53.994074   \n",
       "2      False  0.016835    0.629630  1.528620  13.807475  16.495000  68.784512   \n",
       "       True   0.017652    0.700328  1.410099  23.922726  27.884854  59.885878   \n",
       "3      False  0.000000    1.000000  1.346154  28.573846  12.702692  58.346154   \n",
       "       True   0.035464    0.671962  1.366827  28.791178  32.731322  64.179165   \n",
       "4      False  0.027653    0.624813  1.395366  12.710613  15.604593  64.970105   \n",
       "       True   0.042264    0.723496  1.521490  20.424226  24.330118  67.327364   \n",
       "\n",
       "              windspeed     casual  registered       count  \n",
       "season atemp                                                \n",
       "1      False  13.759171   7.768772   82.475883   90.244654  \n",
       "       True   17.252192  38.491852  155.605926  194.097778  \n",
       "2      False  14.320246  13.407407   75.882155   89.289562  \n",
       "       True   13.294093  51.596880  179.011905  230.608785  \n",
       "3      False  15.385262  57.346154  222.384615  279.730769  \n",
       "       True   11.471630  52.171038  181.810861  233.981899  \n",
       "4      False  11.120022  14.521674  143.242900  157.764574  \n",
       "       True   12.213083  42.055874  196.443410  238.499284  "
      ]
     },
     "execution_count": 39,
     "metadata": {},
     "output_type": "execute_result"
    }
   ],
   "source": [
    "data.groupby(['season',data.atemp>20]).mean()"
   ]
  },
  {
   "cell_type": "markdown",
   "metadata": {},
   "source": [
    "## Recodes\n",
    "\n",
    "Next, we will parse through the datetime field to create some recodes that will allow us to access various fields datetime.  A typical entry in the datetime columns looks like this: `2011-04-05 13:00:00`.  Next, we will create a function that converts this string into a tuple of integers in the format year, month, day, hour."
   ]
  },
  {
   "cell_type": "code",
   "execution_count": 40,
   "metadata": {
    "collapsed": false
   },
   "outputs": [
    {
     "data": {
      "text/plain": [
       "TestResults(failed=0, attempted=1)"
      ]
     },
     "execution_count": 40,
     "metadata": {},
     "output_type": "execute_result"
    }
   ],
   "source": [
    "def parse_date(datetime):\n",
    "    \"\"\" Convert a date in YYYY-MM-DD HH:MM:SS to a tuple\n",
    "        containing year, month, day, and hours each expressed\n",
    "        as an integer.\n",
    "\n",
    "        >>> parse_date(\"2014-04-05 14:00:00\")\n",
    "        (2014, 4, 5, 14)\n",
    "    \"\"\"\n",
    "    return int(datetime[0:4]), int(datetime[5:7]), int(datetime[8:10]), int(datetime[11:13])\n",
    "\n",
    "import doctest\n",
    "doctest.testmod()"
   ]
  },
  {
   "cell_type": "markdown",
   "metadata": {},
   "source": [
    "Next, we will apply our function to create some new columns in our data frame."
   ]
  },
  {
   "cell_type": "code",
   "execution_count": 41,
   "metadata": {
    "collapsed": false
   },
   "outputs": [],
   "source": [
    "years = []\n",
    "months = []\n",
    "days = []\n",
    "hours = []\n",
    "\n",
    "for d in data.datetime:\n",
    "    year, month, day, hour = parse_date(d)\n",
    "    years.append(year)\n",
    "    months.append(month)\n",
    "    days.append(day)\n",
    "    hours.append(hour)\n",
    "\n",
    "data['year'] = years\n",
    "data['month'] = months\n",
    "data['day'] = days\n",
    "data['hour'] = hours"
   ]
  },
  {
   "cell_type": "markdown",
   "metadata": {},
   "source": [
    "Another way to accomplish the same thing as above is to use the `apply` method.  `apply` is a method of an PandasSeries that applies a given function to each element of the series and returns a new series consisting of each of the resultant outputs.  Since our function for parsing datetimes output a tuple of year, month, day, and hour we have to do a bit more work to create each individual column.  We do this by using Python's lambda functions."
   ]
  },
  {
   "cell_type": "code",
   "execution_count": 42,
   "metadata": {
    "collapsed": true
   },
   "outputs": [],
   "source": [
    "data['year'] = data.datetime.apply(lambda x: parse_date(x)[0])\n",
    "data['month'] = data.datetime.apply(lambda x: parse_date(x)[1])\n",
    "data['day'] = data.datetime.apply(lambda x: parse_date(x)[2])\n",
    "data['hour'] = data.datetime.apply(lambda x: parse_date(x)[3])"
   ]
  },
  {
   "cell_type": "markdown",
   "metadata": {},
   "source": [
    "As a final step, we will use our recodes to create some time series plots."
   ]
  },
  {
   "cell_type": "code",
   "execution_count": 43,
   "metadata": {
    "collapsed": false
   },
   "outputs": [
    {
     "data": {
      "text/plain": [
       "<matplotlib.legend.Legend at 0x7f821508f350>"
      ]
     },
     "execution_count": 43,
     "metadata": {},
     "output_type": "execute_result"
    },
    {
     "data": {
      "image/png": "[encoded data removed]",
      "text/plain": [
       "<matplotlib.figure.Figure at 0x7f8215102490>"
      ]
     },
     "metadata": {},
     "output_type": "display_data"
    }
   ],
   "source": [
    "plt.plot(data.groupby('hour').registered.mean())\n",
    "plt.plot(data.groupby('hour').casual.mean())\n",
    "plt.legend(['Registered', 'Casual'])"
   ]
  },
  {
   "cell_type": "markdown",
   "metadata": {},
   "source": [
    "### Next, go play around!  See what you can find"
   ]
  },
  {
   "cell_type": "code",
   "execution_count": null,
   "metadata": {
    "collapsed": true
   },
   "outputs": [],
   "source": []
  }
 ],
 "metadata": {
  "kernelspec": {
   "display_name": "Python 2",
   "language": "python",
   "name": "python2"
  },
  "language_info": {
   "codemirror_mode": {
    "name": "ipython",
    "version": 2
   },
   "file_extension": ".py",
   "mimetype": "text/x-python",
   "name": "python",
   "nbconvert_exporter": "python",
   "pygments_lexer": "ipython2",
   "version": "2.7.11"
  }
 },
 "nbformat": 4,
 "nbformat_minor": 0
}
