{
 "cells": [
  {
   "cell_type": "markdown",
   "metadata": {},
   "source": [
    "## Decision Tree Learning Choosing the Best Split\n",
    "\n",
    "In this notebook you will be writing a Python function to compute the best possible split for a decision tree given some points in the x, y plane and some binary targets.\n",
    "\n",
    "For starters, we will generate a random decision tree and then plot the points.  The binary targets are noisy realizations of the true underlying decision function (with noise specified by the variable `noise`)."
   ]
  },
  {
   "cell_type": "code",
   "execution_count": 83,
   "metadata": {
    "collapsed": false
   },
   "outputs": [
    {
     "name": "stdout",
     "output_type": "stream",
     "text": [
      "if y > 46.000000:\n",
      "    if y > 467.000000:\n",
      "        if y > 473.000000:\n",
      "            if x > 488.000000:\n",
      "                return False\n",
      "            else:\n",
      "                if x > 455.000000:\n",
      "                    if y > 480.000000:\n",
      "                        if y > 480.000000:\n",
      "                            if y > 487.000000:\n",
      "                                if x > 483.000000:\n",
      "                                    return False\n",
      "                                else:\n",
      "                                    return True\n",
      "                            else:\n",
      "                                return True\n",
      "                        else:\n",
      "                            return False\n",
      "                    else:\n",
      "                        if y > 478.000000:\n",
      "                            if x > 470.000000:\n",
      "                                return False\n",
      "                            else:\n",
      "                                return True\n",
      "                        else:\n",
      "                            return False\n",
      "                else:\n",
      "                    if x > 193.000000:\n",
      "                        if y > 486.000000:\n",
      "                            if x > 396.000000:\n",
      "                                if y > 495.000000:\n",
      "                                    return False\n",
      "                                else:\n",
      "                                    if y > 490.000000:\n",
      "                                        return False\n",
      "                                    else:\n",
      "                                        return True\n",
      "                            else:\n",
      "                                return False\n",
      "                        else:\n",
      "                            if y > 476.000000:\n",
      "                                if x > 396.000000:\n",
      "                                    if x > 454.000000:\n",
      "                                        return True\n",
      "                                    else:\n",
      "                                        return False\n",
      "                                else:\n",
      "                                    if y > 481.000000:\n",
      "                                        if x > 222.000000:\n",
      "                                            return False\n",
      "                                        else:\n",
      "                                            if y > 481.000000:\n",
      "                                                return False\n",
      "                                            else:\n",
      "                                                return True\n",
      "                                    else:\n",
      "                                        if y > 479.000000:\n",
      "                                            if x > 195.000000:\n",
      "                                                if x > 273.000000:\n",
      "                                                    return False\n",
      "                                                else:\n",
      "                                                    return True\n",
      "                                            else:\n",
      "                                                return True\n",
      "                                        else:\n",
      "                                            return True\n",
      "                            else:\n",
      "                                if x > 335.000000:\n",
      "                                    return False\n",
      "                                else:\n",
      "                                    if x > 261.000000:\n",
      "                                        return False\n",
      "                                    else:\n",
      "                                        return True\n",
      "                    else:\n",
      "                        if y > 496.000000:\n",
      "                            return True\n",
      "                        else:\n",
      "                            return False\n",
      "        else:\n",
      "            if x > 266.000000:\n",
      "                return False\n",
      "            else:\n",
      "                return True\n",
      "    else:\n",
      "        if y > 291.000000:\n",
      "            if x > 413.000000:\n",
      "                return False\n",
      "            else:\n",
      "                if y > 312.000000:\n",
      "                    if x > 317.000000:\n",
      "                        if x > 338.000000:\n",
      "                            return True\n",
      "                        else:\n",
      "                            return False\n",
      "                    else:\n",
      "                        if x > 5.000000:\n",
      "                            if x > 260.000000:\n",
      "                                return False\n",
      "                            else:\n",
      "                                return True\n",
      "                        else:\n",
      "                            return True\n",
      "                else:\n",
      "                    if x > 276.000000:\n",
      "                        return False\n",
      "                    else:\n",
      "                        return True\n",
      "        else:\n",
      "            if x > 331.000000:\n",
      "                return True\n",
      "            else:\n",
      "                if y > 80.000000:\n",
      "                    return True\n",
      "                else:\n",
      "                    if y > 70.000000:\n",
      "                        if x > 200.000000:\n",
      "                            return True\n",
      "                        else:\n",
      "                            if y > 75.000000:\n",
      "                                if x > 179.000000:\n",
      "                                    if y > 75.000000:\n",
      "                                        return True\n",
      "                                    else:\n",
      "                                        return False\n",
      "                                else:\n",
      "                                    return False\n",
      "                            else:\n",
      "                                return True\n",
      "                    else:\n",
      "                        if x > 15.000000:\n",
      "                            if x > 94.000000:\n",
      "                                return False\n",
      "                            else:\n",
      "                                if x > 63.000000:\n",
      "                                    return True\n",
      "                                else:\n",
      "                                    return False\n",
      "                        else:\n",
      "                            if y > 54.000000:\n",
      "                                return True\n",
      "                            else:\n",
      "                                return False\n",
      "else:\n",
      "    if x > 31.000000:\n",
      "        return False\n",
      "    else:\n",
      "        if y > 28.000000:\n",
      "            if x > 20.000000:\n",
      "                return True\n",
      "            else:\n",
      "                return False\n",
      "        else:\n",
      "            return False\n",
      "\n"
     ]
    },
    {
     "data": {
      "text/plain": [
       "[<matplotlib.lines.Line2D at 0x7f7fab355810>]"
      ]
     },
     "execution_count": 83,
     "metadata": {},
     "output_type": "execute_result"
    },
    {
     "data": {
      "image/png": "[encoded data removed]",
      "text/plain": [
       "<matplotlib.figure.Figure at 0x7f7fab298090>"
      ]
     },
     "metadata": {},
     "output_type": "display_data"
    }
   ],
   "source": [
    "%matplotlib inline\n",
    "import matplotlib.pyplot as plt\n",
    "import numpy as np\n",
    "from learn_interactive import DecisionTree, make_random_tree, canvas_dim\n",
    "from sklearn.cross_validation import train_test_split\n",
    "\n",
    "real_tree = make_random_tree()\n",
    "print real_tree\n",
    "\n",
    "n_points = 100\n",
    "noise = 0.2\n",
    "\n",
    "# generate some noisy labels\n",
    "points = np.random.randint(0, canvas_dim, (n_points, 2))\n",
    "labels = np.zeros((points.shape[0],),dtype=np.bool_)\n",
    "\n",
    "for i in range(len(labels)):\n",
    "    label, _ = real_tree.evaluate(points[i,0], points[i,1])\n",
    "    if np.random.rand() < noise:\n",
    "        label = not label\n",
    "    labels[i] = label\n",
    "\n",
    "# plot the points (blue for positive, red for negative)\n",
    "plt.plot(points[labels==1,0], points[labels==1,1],'b.')\n",
    "plt.plot(points[labels==0,0], points[labels==0,1],'r.')"
   ]
  },
  {
   "cell_type": "markdown",
   "metadata": {},
   "source": [
    "### Gini Impurity as a Metric for Best Split\n",
    "\n",
    "In order to talk about the \"best split\", we have to have some notion of what \"best\" means.  There are lots of [possible options](https://en.wikipedia.org/wiki/Decision_tree_learning).  The one we are going to examine here is called \"Gini impurity\".  The Gini impurity is a measure of the homegeneity of the points in a set.  Suppose that we have a set of $x_1, \\ldots, x_n$ with target values $y_1, \\ldots, y_n$.  For simplicity, we will assume that each of the target values $y_i \\in \\{0, 1\\}$ (i.e. it is a binary variable).  The Gini impurity of the set is defined as:\n",
    "\n",
    "\\begin{align}\n",
    "\\mbox{gini_impurity}(y_1, \\ldots, y_n) =& f_0 \\times (1 - f_0) + f_1 \\times (1 - f_1)\n",
    "\\end{align}\n",
    "\n",
    "Where $f_c = \\frac{1}{n}\\sum_{i=1}^n y_i = c$.  In otherwords $f_c$ is the proportion of points in the set that belong to class $c$.  Since we are dealing with binary target variables, $c$ in this case will either be $0$ or $1$.\n",
    "\n",
    "**Q:** What is the highest value that gini-impuritycan obtain?  What is the lowest?\n",
    "\n",
    "In order to relate this back to the concept of the best possible split to our data, consider a possible split of our data.  Specifically, we will consider splits that arise from testing one of the two attributes for each data point (x or y) and comparing it to a threshold (e.g. $x > 50$ or $y > 100$).  Let $y^{p}_1, \\ldots, y^{p}_{n_{p}}$  denote the targets for the points that passed the Boolean test, and let $y^{f}_1, \\ldots, y^{f}_{n_{f}}$ denote the targets for the points that failed the Boolean test.  The impurity of this split is given by the following formula.\n",
    "\n",
    "\\begin{align}\n",
    "\\mbox{split_impurity}(y_1, \\ldots, y_n) =& \\frac{n_p}{n}\\mbox{gini_impurity}(y^{p}_1, \\ldots, y^{p}_{n_{p}}) + \\frac{n_f}{n}\\mbox{gini_impurity}(y^{f}_1, \\ldots, y^{f}_{n_{f}})\n",
    "\\end{align}\n",
    "\n",
    "That is, the impurity of a split is a weighted combination of the Gini impurity of each resultant subset weighted by the proportion of data that is assigned to each subset.\n",
    "\n",
    "Fill out the following function stub to compute the best possible split of the data using Gini impurity as a metric."
   ]
  },
  {
   "cell_type": "code",
   "execution_count": 103,
   "metadata": {
    "collapsed": false,
    "scrolled": true
   },
   "outputs": [
    {
     "name": "stderr",
     "output_type": "stream",
     "text": [
      "/home/pruvolo/anaconda2/lib/python2.7/site-packages/ipykernel/__main__.py:15: RuntimeWarning: invalid value encountered in divide\n",
      "/home/pruvolo/anaconda2/lib/python2.7/site-packages/ipykernel/__main__.py:16: RuntimeWarning: invalid value encountered in divide\n",
      "/home/pruvolo/anaconda2/lib/python2.7/site-packages/ipykernel/__main__.py:13: RuntimeWarning: invalid value encountered in divide\n"
     ]
    },
    {
     "name": "stdout",
     "output_type": "stream",
     "text": [
      "(100,)\n",
      "y 60.0\n"
     ]
    },
    {
     "name": "stderr",
     "output_type": "stream",
     "text": [
      "/home/pruvolo/anaconda2/lib/python2.7/site-packages/ipykernel/__main__.py:14: RuntimeWarning: invalid value encountered in divide\n"
     ]
    }
   ],
   "source": [
    "def best_split(data, targets):\n",
    "    \"\"\" Find the best split for a given dataset.\n",
    "        data is an nx2 numpy array where n is the number of data points.  The first column\n",
    "        of data contains the x coordinates of the points, and the second contains the y\n",
    "        coordinates.\n",
    "        targets is an n dimensional numpy array containing the binary target values (0, 1)\"\"\"\n",
    "    print targets.shape\n",
    "    best_impurity = np.inf\n",
    "    split_variable = None\n",
    "    split_threshold = None\n",
    "    variable_names = ['x', 'y']\n",
    "    for i in range(data.shape[1]):\n",
    "        for threshold in np.arange(-1.0, canvas_dim+1, 1):\n",
    "            mask_gt = data[:,i] > threshold\n",
    "            f_gt = [(targets[mask_gt] == 0).sum()/float(sum(mask_gt)),\n",
    "                    (targets[mask_gt] == 1).sum()/float(sum(mask_gt))]\n",
    "            f_lte = [(targets[~mask_gt] == 0).sum()/float(sum(~mask_gt)),\n",
    "                     (targets[~mask_gt] == 1).sum()/float(sum(~mask_gt))]\n",
    "            if any(np.isnan(f_gt)) or any(np.isnan(f_lte)):\n",
    "                impurity = np.inf\n",
    "            else:\n",
    "                impurity = np.mean(mask_gt) * sum([x*(1-x) for x in f_gt]) + \\\n",
    "                           np.mean(~mask_gt) * sum(x*(1-x) for x in f_lte)\n",
    "            if impurity < best_impurity:\n",
    "                best_impurity = impurity\n",
    "                split_variable = variable_names[i]\n",
    "                split_threshold = threshold\n",
    "\n",
    "    return split_variable, split_threshold\n",
    "\n",
    "split_variable, split_threshold = best_split(points, labels)\n",
    "print split_variable, split_threshold"
   ]
  },
  {
   "cell_type": "code",
   "execution_count": 102,
   "metadata": {
    "collapsed": false
   },
   "outputs": [
    {
     "data": {
      "image/png": "[encoded data removed]",
      "text/plain": [
       "<matplotlib.figure.Figure at 0x7f7fab515590>"
      ]
     },
     "metadata": {},
     "output_type": "display_data"
    }
   ],
   "source": [
    "# visualize the best split computed above\n",
    "\n",
    "plt.plot(points[labels==1,0], points[labels==1,1],'b.')\n",
    "plt.plot(points[labels==0,0], points[labels==0,1],'r.')\n",
    "if split_variable == \"x\":\n",
    "    plt.plot([split_threshold, split_threshold], [0, canvas_dim], 'k')\n",
    "else:\n",
    "    plt.plot([0, canvas_dim],[split_threshold, split_threshold], 'k')"
   ]
  },
  {
   "cell_type": "code",
   "execution_count": null,
   "metadata": {
    "collapsed": true
   },
   "outputs": [],
   "source": []
  }
 ],
 "metadata": {
  "kernelspec": {
   "display_name": "Python 2",
   "language": "python",
   "name": "python2"
  },
  "language_info": {
   "codemirror_mode": {
    "name": "ipython",
    "version": 2
   },
   "file_extension": ".py",
   "mimetype": "text/x-python",
   "name": "python",
   "nbconvert_exporter": "python",
   "pygments_lexer": "ipython2",
   "version": "2.7.11"
  }
 },
 "nbformat": 4,
 "nbformat_minor": 0
}
