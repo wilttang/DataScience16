{
 "cells": [
  {
   "cell_type": "markdown",
   "metadata": {},
   "source": [
    "# Machine Learning Basics"
   ]
  },
  {
   "cell_type": "markdown",
   "metadata": {},
   "source": [
    "**Abstract:** These exercises will familiarize you with the basics of doing regression and classification using scikit-learn.  You will also get an introduction to some techniques for estimating generalization performance.\n",
    "\n",
    "Good background reading: [\"A few useful things to know about machine learning\"](http://homes.cs.washington.edu/%7Epedrod/papers/cacm12.pdf), "
   ]
  },
  {
   "cell_type": "markdown",
   "metadata": {},
   "source": [
    "Before beginning, you should verify that you have scikit-learn and matplotlib installed properly.  To do so, run the following code block and make sure that you don't get any import errors.  Additionally, the version of the sklearn module should be at least 0.13."
   ]
  },
  {
   "cell_type": "code",
   "execution_count": null,
   "metadata": {
    "collapsed": false
   },
   "outputs": [],
   "source": [
    "import sklearn\n",
    "import matplotlib.pyplot as plt\n",
    "%matplotlib inline\n",
    "\n",
    "print sklearn.__version__"
   ]
  },
  {
   "cell_type": "markdown",
   "metadata": {},
   "source": [
    "## What is Machine Learning\n",
    "\n",
    "Tom Mitchell defines what it means for a computer program to learn in the following way: “A computer program is said to learn from experience E with respect to some class of tasks T and performance measure P, if its performance at tasks in T, as measured by P, improves with experience E.”\n",
    "\n",
    "This definition highlights a key difference between machine learning and classical statistical methods.  That is, machine learning is chiefly concerned with improving future performance based on prior experience.\n",
    "\n",
    "Another key difference with classical statistical methods is that machine learning focuses on the computational efficiency (in both time and space) of algorithms.  For instance, an active area of machine learning research is to create algorithms that have computational efficiency properties that work with “big data”.\n",
    "\n",
    "## Doing machine learning using scikit-learn\n",
    "\n",
    "The specific software package we will be using to do machine learning is called [scikit-learn](http://scikit-learn.org/stable/).  Scikit-learn is a very powerful package that supports a vast array of machine learning algorithms.  To get a sense of the toolkits capabilities check out the [examples page](http://scikit-learn.org/stable/auto_examples/index.html).\n",
    "\n",
    "## Training Versus Testing Performance\n",
    "\n",
    "To better understand how machine learning differs from classical methods, we'll use an example taken directly from scikit learn's built-in datasets.\n",
    "\n",
    "The first step will be to load a dataset to use for our analysis.  First, we will be working with a dataset of Boston real estate prices.  In order to load the data and print out a detailed description of this dataset use the following code:"
   ]
  },
  {
   "cell_type": "code",
   "execution_count": null,
   "metadata": {
    "collapsed": false
   },
   "outputs": [],
   "source": [
    "from sklearn.datasets import *\n",
    "\n",
    "data = load_boston()\n",
    "print data.DESCR"
   ]
  },
  {
   "cell_type": "markdown",
   "metadata": {},
   "source": [
    "To learn a simple model of housing prices using multiple linear regression and print the quality of our model (for some yet to be defined notion of quality), we use this code."
   ]
  },
  {
   "cell_type": "code",
   "execution_count": null,
   "metadata": {
    "collapsed": false
   },
   "outputs": [],
   "source": [
    "from sklearn.datasets import *\n",
    "from sklearn.linear_model import LinearRegression\n",
    "\n",
    "data = load_boston()\n",
    "model = LinearRegression()\n",
    "model.fit(data.data, data.target)\n",
    "\n",
    "print model.score(data.data, data.target)"
   ]
  },
  {
   "cell_type": "markdown",
   "metadata": {},
   "source": [
    "This code will tell us how well the model does on explaining the data we used to fit the model.  In machine learning, we focus on model performance on unseen data.  In order to estimate the performance of the system on unseen data, we can split the data into two sets: the training set and the test set.  The following code will fit a model just using the training data and print out the coefficient of determination for both the training and testing data."
   ]
  },
  {
   "cell_type": "code",
   "execution_count": null,
   "metadata": {
    "collapsed": false
   },
   "outputs": [],
   "source": [
    "from sklearn.datasets import *\n",
    "from sklearn.cross_validation import train_test_split\n",
    "\n",
    "data = load_boston()\n",
    "\n",
    "X_train, X_test, y_train, y_test = train_test_split(data.data, data.target, train_size=0.5)\n",
    "model = LinearRegression()\n",
    "model.fit(X_train, y_train)\n",
    "\n",
    "print \"Train Quality %f\"%model.score(X_train,y_train)\n",
    "print \"Test Quality %f\"%model.score(X_test,y_test)"
   ]
  },
  {
   "cell_type": "markdown",
   "metadata": {},
   "source": [
    "This simple experiment gets at the idea that estimating your model’s performance using the same data used for fitting is not an accurate predictor of how well the model will do on new data.\n",
    "\n",
    "Further, there is a relationship between model complexity, amount of training data, and the gap between the performance of a model on the training data versus the testing data.\n",
    "\n",
    "To get a better handle on this, we let's generate a plot showing the Quality of fit on the training and the test set versus the number of the 13 features used to fit the model.  For instance at the value of 3 on the x-axis a random subset of size 3 from the original 13 features was selected for learning.  This procedure was repeated 1,000 times to smooth out variability.\n",
    "\n",
    "Questions:\n",
    "\n",
    "1. Why do the curves look the way they do?\n",
    "\n",
    "2. Does this remind you of any of the statistics we computed when we first saw multiple linear regression?"
   ]
  },
  {
   "cell_type": "code",
   "execution_count": null,
   "metadata": {
    "collapsed": false
   },
   "outputs": [],
   "source": [
    "import numpy as np\n",
    "\n",
    "n_trials = 100\n",
    "\n",
    "X = data.data\n",
    "y = data.target\n",
    "\n",
    "d = data.data.shape[1]\n",
    "\n",
    "avg_train_quality = np.zeros(d)\n",
    "avg_test_quality = np.zeros(d)\n",
    "\n",
    "for n_features in range(1,d+1):\n",
    "    quality_train = numpy.zeros(n_trials)\n",
    "    quality_test = numpy.zeros(n_trials)\n",
    "\n",
    "    for i in range(n_trials):\n",
    "        # permute the columns of X\n",
    "        permutation = np.random.permutation(range(d))\n",
    "        X_subset = X[:,permutation[0:n_features]]\n",
    "\n",
    "        X_train, X_test, y_train, y_test = train_test_split(X_subset, y, train_size=0.5)\n",
    "\n",
    "        model = LinearRegression()\n",
    "        model.fit(X_train, y_train)\n",
    "        quality_train[i] = model.score(X_train, y_train)\n",
    "        quality_test[i] = model.score(X_test,y_test)\n",
    "\n",
    "    avg_train_quality[n_features-1] = quality_train.mean()\n",
    "    avg_test_quality[n_features-1] = quality_test.mean()\n",
    "\n",
    "fig = plt.figure()\n",
    "train_line, = plt.plot(range(1,d+1),avg_train_quality)\n",
    "plt.hold(True)\n",
    "test_line, = plt.plot(range(1,d+1),avg_test_quality)\n",
    "plt.legend([train_line, test_line],['Average Training Quality','Average Testing Quality'],loc=\"upper left\")\n",
    "plt.xlabel('Number of Features')\n",
    "plt.show()"
   ]
  },
  {
   "cell_type": "markdown",
   "metadata": {},
   "source": [
    "## Classification using scikit-learn\n",
    "\n",
    "In addition to multiple regression, scikit-learn supports many other learning algorithms for both regression and classification.  In the classification setting, the goal is to assign a categorical label to an input rather than a continuous value (as in regression).  When doing classification, you will want to use both a evaluation function (to use the terminology in the Domingos paper) and a different learning algorithm.  To get started we will use an algorithm called multiple logistic regression that is built into scikit-learn.  Specifically, we will be building a model to classify images of handwritten digits.\n",
    "\n",
    "To load the digits and display 10 of the examplars use the following code:"
   ]
  },
  {
   "cell_type": "code",
   "execution_count": null,
   "metadata": {
    "collapsed": false
   },
   "outputs": [],
   "source": [
    "from sklearn.datasets import *\n",
    "import matplotlib.pyplot as plt\n",
    "%matplotlib inline\n",
    "import numpy\n",
    "\n",
    "digits = load_digits()\n",
    "print digits.DESCR\n",
    "fig = plt.figure()\n",
    "for i in range(10):\n",
    "    subplot = fig.add_subplot(5,2,i+1)\n",
    "    subplot.matshow(numpy.reshape(digits.data[i],(8,8)),cmap='gray')\n",
    "plt.show()"
   ]
  },
  {
   "cell_type": "markdown",
   "metadata": {},
   "source": [
    "Next, we will use [multinomial logistic regression](http://en.wikipedia.org/wiki/Multinomial_logistic_regression) to learn to classify images of digits based on their pixel brightnesses.  As before, we split the data into two sets in order to get an accurate estimate of how well our model will work on future images of digits."
   ]
  },
  {
   "cell_type": "code",
   "execution_count": null,
   "metadata": {
    "collapsed": false
   },
   "outputs": [],
   "source": [
    "from sklearn.datasets import *\n",
    "from sklearn.cross_validation import train_test_split\n",
    "\n",
    "from sklearn.linear_model import LogisticRegression\n",
    "\n",
    "data = load_digits()\n",
    "X_train, X_test, y_train, y_test = train_test_split(data.data, data.target, train_size=0.5)\n",
    "model = LogisticRegression()\n",
    "model.fit(X_train, y_train)\n",
    "print \"Train accuracy %f\" %model.score(X_train,y_train)\n",
    "print \"Test accuracy %f\"%model.score(X_test,y_test)"
   ]
  },
  {
   "cell_type": "markdown",
   "metadata": {},
   "source": [
    "### Viewing Model Predictions\n",
    "\n",
    "It's almost always a good idea to investigate the instances your model is getting right and those that it is getting wrong."
   ]
  },
  {
   "cell_type": "code",
   "execution_count": null,
   "metadata": {
    "collapsed": false
   },
   "outputs": [],
   "source": [
    "def visualize_predictions(images, targets, predictions):\n",
    "    \"\"\" Adapted from Jake Vanderplas' scikit learn tutorials. \"\"\"\n",
    "    fig, axes = plt.subplots(10, 10, figsize=(8, 8))\n",
    "    fig.subplots_adjust(hspace=0.1, wspace=0.1)\n",
    "\n",
    "    for i, ax in enumerate(axes.flat):\n",
    "        ax.imshow(digits.images[i], cmap='binary')\n",
    "        ax.text(0.05, 0.05, str(predictions[i]),\n",
    "                transform=ax.transAxes,\n",
    "                color='green' if (targets[i] == predictions[i]) else 'red')\n",
    "        ax.set_xticks([])\n",
    "        ax.set_yticks([])\n",
    "\n",
    "visualize_predictions(digits.data,\n",
    "                      digits.target,\n",
    "                      model.predict(digits.data))"
   ]
  },
  {
   "cell_type": "markdown",
   "metadata": {},
   "source": [
    "Use this code (or a modified version) to better understand the model's behavior.  Where is the model making accurate predictions, what about inaccurate ones?"
   ]
  },
  {
   "cell_type": "markdown",
   "metadata": {},
   "source": [
    "## The relationship between the number of training examples and performance\n",
    "\n",
    "Next, we will examine how the amount of training data influences the performance of the learned model.  Run the following code to generate a learning curve that shows the performance of the model on a testing set as a function of the amount of training examples used:"
   ]
  },
  {
   "cell_type": "code",
   "execution_count": null,
   "metadata": {
    "collapsed": false
   },
   "outputs": [],
   "source": [
    "import matplotlib.pyplot as plt\n",
    "import numpy\n",
    "from sklearn.datasets import *\n",
    "from sklearn.cross_validation import train_test_split\n",
    "from sklearn.linear_model import LogisticRegression\n",
    "\n",
    "data = load_digits()\n",
    "n_trials = 5\n",
    "train_percentages = range(5,95,5)\n",
    "test_accuracies = numpy.zeros(len(train_percentages))\n",
    "\n",
    "for (i,train_percent) in enumerate(train_percentages):\n",
    "        test_accuracy = numpy.zeros(n_trials)\n",
    "        for n in range(n_trials):\n",
    "                X_train, X_test, y_train, y_test = train_test_split(data.data, data.target, train_size=train_percent/100.0)\n",
    "                model = LogisticRegression()\n",
    "                model.fit(X_train, y_train)\n",
    "                test_accuracy[n] = model.score(X_test, y_test)\n",
    "        test_accuracies[i] = test_accuracy.mean()\n",
    "\n",
    "fig = plt.figure()\n",
    "plt.plot(train_percentages, test_accuracies)\n",
    "plt.xlabel('Percentage of Data Used for Training')\n",
    "plt.ylabel('Accuracy on Test Set')\n",
    "plt.show()"
   ]
  },
  {
   "cell_type": "markdown",
   "metadata": {},
   "source": [
    "**Questions:**\n",
    "\n",
    "1.  What is the general trend?\n",
    "\n",
    "2.  Are there parts of the curve that appear to be noisier than others?  Why?\n",
    "\n",
    "To reduce the noise in the curve, increase the number of repeated random trials by editing the code."
   ]
  }
 ],
 "metadata": {
  "kernelspec": {
   "display_name": "Python 2",
   "language": "python",
   "name": "python2"
  },
  "language_info": {
   "codemirror_mode": {
    "name": "ipython",
    "version": 2
   },
   "file_extension": ".py",
   "mimetype": "text/x-python",
   "name": "python",
   "nbconvert_exporter": "python",
   "pygments_lexer": "ipython2",
   "version": "2.7.11"
  }
 },
 "nbformat": 4,
 "nbformat_minor": 0
}
