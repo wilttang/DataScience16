{
 "cells": [
  {
   "cell_type": "markdown",
   "metadata": {},
   "source": [
    "## Debrief on Warmup Project Model Iteration 1\n",
    "\n",
    "This notebook provides some hints for how students can improve.  I based these off of what I saw from everyone in the model iteration 1 notebooks from the Titanic project.  The suggestions are for both improving model performance as well as improving communcation / readability."
   ]
  },
  {
   "cell_type": "markdown",
   "metadata": {},
   "source": [
    "### Create a Data Cleaning Function\n",
    "\n",
    "Usually you will want to apply the same set of transformations to be your training and test data.  When using something like Kaggle, these two sets are typically in different csv files.  This means that you will be tempted to create different data frames for train / test, and then do some cut-and-paste code to replicate your cleaning code for the training data for your testing data.  Instead of doing this, let's make a function to factor out the common work."
   ]
  },
  {
   "cell_type": "markdown",
   "metadata": {},
   "source": [
    "#### Code Without a Data Cleaning Function (before)"
   ]
  },
  {
   "cell_type": "code",
   "execution_count": 72,
   "metadata": {
    "collapsed": false
   },
   "outputs": [],
   "source": [
    "%matplotlib inline\n",
    "import pandas as pd\n",
    "import numpy as np\n",
    "import matplotlib.pyplot as plt\n",
    "\n",
    "# load and then clean the traning data\n",
    "titanic_train = pd.read_csv('../../datasets/titanic_train.csv')\n",
    "titanic_train[\"Age\"] = titanic_train[\"Age\"].fillna(titanic_train[\"Age\"].median())\n",
    "\n",
    "titanic_train.loc[titanic_train[\"Sex\"] == \"male\", \"Sex\"] = 0\n",
    "titanic_train.loc[titanic_train[\"Sex\"] == \"female\", \"Sex\"] = 1\n",
    "\n",
    "titanic_train[\"Embarked\"] = titanic_train[\"Embarked\"].fillna(\"S\")\n",
    "titanic_train.loc[titanic_train[\"Embarked\"] == \"S\", \"Embarked\"] = 0\n",
    "titanic_train.loc[titanic_train[\"Embarked\"] == \"C\", \"Embarked\"] = 1\n",
    "titanic_train.loc[titanic_train[\"Embarked\"] == \"Q\", \"Embarked\"] = 2\n",
    "\n",
    "titanic_train[\"Fare\"] = titanic_train[\"Fare\"].fillna(titanic_train[\"Fare\"].median())\n",
    "\n",
    "\n",
    "# load and then clean the testing data\n",
    "titanic_test = pd.read_csv('../../datasets/titanic_test.csv')\n",
    "titanic_test[\"Age\"] = titanic_test[\"Age\"].fillna(titanic_test[\"Age\"].median())\n",
    "\n",
    "titanic_test.loc[titanic_test[\"Sex\"] == \"male\", \"Sex\"] = 0\n",
    "titanic_test.loc[titanic_test[\"Sex\"] == \"female\", \"Sex\"] = 1\n",
    "\n",
    "titanic_test[\"Embarked\"] = titanic_test[\"Embarked\"].fillna(\"S\")\n",
    "titanic_test.loc[titanic_test[\"Embarked\"] == \"S\", \"Embarked\"] = 0\n",
    "titanic_test.loc[titanic_test[\"Embarked\"] == \"C\", \"Embarked\"] = 1\n",
    "titanic_test.loc[titanic_test[\"Embarked\"] == \"Q\", \"Embarked\"] = 2\n",
    "\n",
    "titanic_test[\"Fare\"] = titanic_test[\"Fare\"].fillna(titanic_test[\"Fare\"].median())"
   ]
  },
  {
   "cell_type": "markdown",
   "metadata": {},
   "source": [
    "#### Code Without a Data Cleaning Function (after)\n",
    "\n",
    "This code is from Anne Loverso's notebook."
   ]
  },
  {
   "cell_type": "code",
   "execution_count": 73,
   "metadata": {
    "collapsed": false
   },
   "outputs": [],
   "source": [
    "def clean_data(data, age_filler):\n",
    "    data.Age = data.Age.fillna(age_filler)\n",
    "    data.Fare = data.Fare.fillna(data.Fare.median())\n",
    "    data.loc[data.Sex == \"female\", \"Sex\"] = 1\n",
    "    data.loc[data.Sex == \"male\", \"Sex\"] = 0\n",
    "    data.Embarked = data.Embarked.fillna(\"S\")\n",
    "    data.loc[data.Embarked == \"S\", \"Embarked\"] = 0\n",
    "    data.loc[data.Embarked == \"C\", \"Embarked\"] = 1\n",
    "    data.loc[data.Embarked == \"Q\", \"Embarked\"] = 2\n",
    "    return data\n",
    "\n",
    "titanic_train = pd.read_csv('../../datasets/titanic_train.csv')\n",
    "titanic_train = clean_data(titanic_train, titanic_train.Age.median())\n",
    "\n",
    "titanic_test = pd.read_csv('../../datasets/titanic_test.csv')\n",
    "titanic_test = clean_data(titanic_test, titanic_train.Age.median())"
   ]
  },
  {
   "cell_type": "markdown",
   "metadata": {},
   "source": [
    "### Using pandas.get_dummmies\n",
    "\n",
    "A lot of times you want to convert from a categorical variable to a \"one-hot\" encoding.  A one-hot encoding is when you use a separate binary column to indicate whether or not the categorical variable takes on a particular value.  Here is what that would look like if we applied this technique to the data titanic data."
   ]
  },
  {
   "cell_type": "code",
   "execution_count": 74,
   "metadata": {
    "collapsed": false
   },
   "outputs": [
    {
     "data": {
      "text/plain": [
       "Index([u'PassengerId', u'Survived', u'Pclass', u'Name', u'Sex', u'Age',\n",
       "       u'SibSp', u'Parch', u'Ticket', u'Fare', u'Cabin', u'Embarked',\n",
       "       u'sex_female', u'sex_male', u'embarked_C', u'embarked_Q',\n",
       "       u'embarked_S'],\n",
       "      dtype='object')"
      ]
     },
     "execution_count": 74,
     "metadata": {},
     "output_type": "execute_result"
    }
   ],
   "source": [
    "def clean_data_dummies(data, age_filler):\n",
    "    data.Age = data.Age.fillna(age_filler)\n",
    "    data.Fare = data.Fare.fillna(data.Fare.median())\n",
    "    data = pd.concat((data, pd.get_dummies(data.Sex, prefix=\"sex\")), axis=1)\n",
    "    data.Embarked = data.Embarked.fillna(\"S\")\n",
    "    data = pd.concat((data, pd.get_dummies(data.Embarked, prefix=\"embarked\")), axis=1)\n",
    "    return data\n",
    "\n",
    "titanic_train_dummies = pd.read_csv('../../datasets/titanic_train.csv')\n",
    "titanic_train_dummies = clean_data_dummies(titanic_train_dummies,\n",
    "                                           titanic_train_dummies.Age.median())\n",
    "\n",
    "titanic_test_dummies = pd.read_csv('../../datasets/titanic_test.csv')\n",
    "titanic_test_dummies = clean_data_dummies(titanic_test_dummies,\n",
    "                                          titanic_train_dummies.Age.median())\n",
    "\n",
    "titanic_train_dummies.columns"
   ]
  },
  {
   "cell_type": "markdown",
   "metadata": {},
   "source": [
    "There is a small difference between this and the original representation of the data.  Specifically, before we represented S as 0, C as 1, and Q as 2 and now we represent them as separate binary columns.  What are the implications of this change?  Under what conditions might it matter more or less?"
   ]
  },
  {
   "cell_type": "markdown",
   "metadata": {},
   "source": [
    "### Running Multiple Cross Validation Trials\n",
    "\n",
    "Another thing I saw consistently was that people would find an improvement when using cross_val_score and then they would not see the same gain on Kaggle.  One way to get a better estimate of how likely an improvement is to carry over, is to do more stringent cross validation."
   ]
  },
  {
   "cell_type": "code",
   "execution_count": 75,
   "metadata": {
    "collapsed": false
   },
   "outputs": [
    {
     "data": {
      "text/plain": [
       "0.0011223344556678949"
      ]
     },
     "execution_count": 75,
     "metadata": {},
     "output_type": "execute_result"
    }
   ],
   "source": [
    "from sklearn import cross_validation\n",
    "from sklearn.linear_model import LogisticRegression\n",
    "\n",
    "alg = LogisticRegression()\n",
    "predictors = [\"Pclass\", \"Sex\", \"Age\", \"SibSp\", \"Parch\", \"Fare\", \"Embarked\"]\n",
    "\n",
    "without_dummies = cross_validation.cross_val_score(alg,\n",
    "                                                   titanic_train[predictors],\n",
    "                                                   titanic_train.Survived)\n",
    "\n",
    "predictors_dummies = [\"Pclass\",\n",
    "                      \"sex_female\",\n",
    "                      \"sex_male\",\n",
    "                      \"Age\",\n",
    "                      \"SibSp\",\n",
    "                      \"Parch\",\n",
    "                      \"Fare\",\n",
    "                      \"embarked_S\",\n",
    "                      \"embarked_C\",\n",
    "                      \"embarked_Q\"]\n",
    "with_dummies = cross_validation.cross_val_score(alg,\n",
    "                                                titanic_train_dummies[predictors_dummies],\n",
    "                                                titanic_train_dummies.Survived)\n",
    "\n",
    "with_dummies.mean() - without_dummies.mean()"
   ]
  },
  {
   "cell_type": "markdown",
   "metadata": {},
   "source": [
    "To see the durability of this finding, let's do a bunch of trials of three-fold cross validation."
   ]
  },
  {
   "cell_type": "code",
   "execution_count": 92,
   "metadata": {
    "collapsed": false
   },
   "outputs": [
    {
     "data": {
      "image/png": "[encoded data removed]",
      "text/plain": [
       "<matplotlib.figure.Figure at 0x7f0b5b9d0dd0>"
      ]
     },
     "metadata": {},
     "output_type": "display_data"
    }
   ],
   "source": [
    "def do_trial(data1, predictors1, data2, predictors2):\n",
    "    alg = LogisticRegression()\n",
    "    # change Shuffle to False to see how this affects the conclusions\n",
    "    cv = cross_validation.StratifiedKFold(data1.Survived, 3, shuffle=True)\n",
    "    score1 = cross_validation.cross_val_score(alg, data1[predictors1], data1.Survived, cv=cv)\n",
    "    score2 = cross_validation.cross_val_score(alg, data2[predictors2], data2.Survived, cv=cv)\n",
    "    return score1.mean() - score2.mean()\n",
    "\n",
    "results = []\n",
    "n_trials = 50\n",
    "for i in range(n_trials):\n",
    "    results.append(do_trial(titanic_train_dummies, predictors_dummies, titanic_train, predictors))\n",
    "    \n",
    "plt.hist(results, bins=20)\n",
    "plt.xlabel('Change in performance when using dummies')\n",
    "plt.ylabel('Frequency')\n",
    "plt.show()"
   ]
  },
  {
   "cell_type": "markdown",
   "metadata": {},
   "source": [
    "In contrast if we look at something with some real signal, we will see a different pattern.  Let's look at adding whether or not the passenger was a child (age less than or equal to 12 is likely to have a positive effect on the results)."
   ]
  },
  {
   "cell_type": "code",
   "execution_count": 91,
   "metadata": {
    "collapsed": false
   },
   "outputs": [
    {
     "data": {
      "text/plain": [
       "0    822\n",
       "1     69\n",
       "Name: is_child, dtype: int64"
      ]
     },
     "execution_count": 91,
     "metadata": {},
     "output_type": "execute_result"
    }
   ],
   "source": [
    "titanic_train[\"is_child\"] = (titanic_train.Age <= 12).astype(float)\n",
    "titanic_train.is_child.value_counts()"
   ]
  },
  {
   "cell_type": "code",
   "execution_count": 96,
   "metadata": {
    "collapsed": false
   },
   "outputs": [
    {
     "data": {
      "image/png": "[encoded data removed]",
      "text/plain": [
       "<matplotlib.figure.Figure at 0x7f0b7080d8d0>"
      ]
     },
     "metadata": {},
     "output_type": "display_data"
    }
   ],
   "source": [
    "results = []\n",
    "n_trials = 50\n",
    "for i in range(n_trials):\n",
    "    results.append(do_trial(titanic_train,\n",
    "                            predictors + [\"is_child\"],\n",
    "                            titanic_train,\n",
    "                            predictors))\n",
    "    \n",
    "plt.hist(results, bins=20)\n",
    "plt.xlabel('Change in performance when using is_child')\n",
    "plt.ylabel('Frequency')\n",
    "plt.show()"
   ]
  },
  {
   "cell_type": "markdown",
   "metadata": {},
   "source": [
    "### Examining Model Mistakes\n",
    "\n",
    "Some folks used analysis of the model's mistakes as a way to point the way to potential improvements.  Looking at individual mistakes can be good, but it is usually easier to look at overall trends of mistakes to get a better sense of how thing can be improved.  To see this in action, let's look at how we might use this analysis to point the way to using `is_child` as a good predictor to add to our model."
   ]
  },
  {
   "cell_type": "code",
   "execution_count": 166,
   "metadata": {
    "collapsed": false,
    "scrolled": true
   },
   "outputs": [
    {
     "data": {
      "image/png": "[encoded data removed]",
      "text/plain": [
       "<matplotlib.figure.Figure at 0x7f0b5aaefc10>"
      ]
     },
     "metadata": {},
     "output_type": "display_data"
    }
   ],
   "source": [
    "import seaborn as sns\n",
    "# setting shuffle=False for repeatability\n",
    "cv = cross_validation.StratifiedKFold(titanic_train.Survived, 3, shuffle=False)\n",
    "correct = []\n",
    "indices = []\n",
    "\n",
    "for train, test in cv:\n",
    "    model = LogisticRegression()\n",
    "    X = titanic_train.iloc[train, :]\n",
    "    X = X[predictors]\n",
    "    y = titanic_train.iloc[train, :].Survived\n",
    "    model.fit(X, y)\n",
    "    \n",
    "    X_test = titanic_train.iloc[test, :]\n",
    "    X_test = X_test[predictors]\n",
    "    y_test = titanic_train.iloc[test, :].Survived\n",
    "\n",
    "    indices.extend(titanic_train.iloc[test,:].index)\n",
    "    correct.extend(model.predict(X_test) == y_test)\n",
    "\n",
    "is_correct = pd.Series(correct, index=indices)\n",
    "\n",
    "# note that distplot is a density (meaning it is normalized).  This facilitates\n",
    "# direct comparision between the two populations\n",
    "sns.distplot(titanic_train[is_correct].Age, hist=False, label=\"Correct\")\n",
    "sns.distplot(titanic_train[~is_correct].Age, hist=False, label=\"Incorrect\")\n",
    "sns.plt.ylabel('Density of responses')\n",
    "sns.plt.show()"
   ]
  },
  {
   "cell_type": "markdown",
   "metadata": {},
   "source": [
    "### Ways to Transform the Age Variable\n",
    "\n",
    "We'll do a brainstorm on this on the board."
   ]
  },
  {
   "cell_type": "markdown",
   "metadata": {},
   "source": [
    "### Improving Readability\n",
    "\n",
    "\n",
    "#### Include an example of an abstract that describes the contents of the ipython notebook.\n",
    "\n",
    "Example 1: \n",
    "> In order to learn the basics of kaggle, I start this first model iteration of the Titanic warmup project. Basically, I followed along the tutorial in https://www.dataquest.io/mission/74/getting-started-with-kaggle and created a simple linear regression and logistic regression to have a simple machine learning model for the survival data in Titanic event.\n",
    "\n",
    "Example 2:\n",
    "> This code goes through the process of training the algorithm to use the predictors I think are most important. These are passenger class, sex, age, family members, fare, and the location the passengers embarked from.This code does a large amount of preprocessing, mostly in the form of converting non integer values into integer values that the computer can then analyze. I also had to replace a few column's nan values with either an educated guess or the average median of the rest of the data, which serves to make the algorithm stronger without compromising on data integrity.\n",
    "\n",
    "Example 3:\n",
    "> In this notebook, we'll be building a predictive model for survival on the titanic based on training data provided by kaggle. This is part of the Warmup Project for Data Science 2016.\n",
    "\n",
    "Example 4:\n",
    "> In this notebook, I begin with a model that is dervied from experience using DataQuest, and then annotate a variety of revisions tried since. Accuracies are also reported.\n",
    "\n",
    "#### Avoid cut and pasting code when possible\n",
    "\n",
    "Putting all imports and read_csv's in each cell is tempting to improve repeatability, however, it comes at the cost of readability.  As you gain more comfort with Jupyter notebooks you should be able to find a sweetspot that serves both goals well.\n",
    "\n",
    "#### Include appropriate narration\n",
    "\n",
    "Including narration / explanation of the data quest model increased my confidence that you understood it. This is always a good idea for building confidence in your reader.\n",
    "\n",
    "#### Be thoughtful in sequencing\n",
    "\n",
    "Think about the sequence of your explanation of an analysis, your code, and your interpretation.  I saw some folks that would put code, and then only after the code block explain what the code was doing."
   ]
  }
 ],
 "metadata": {
  "kernelspec": {
   "display_name": "Python 2",
   "language": "python",
   "name": "python2"
  },
  "language_info": {
   "codemirror_mode": {
    "name": "ipython",
    "version": 2
   },
   "file_extension": ".py",
   "mimetype": "text/x-python",
   "name": "python",
   "nbconvert_exporter": "python",
   "pygments_lexer": "ipython2",
   "version": "2.7.11"
  }
 },
 "nbformat": 4,
 "nbformat_minor": 0
}
